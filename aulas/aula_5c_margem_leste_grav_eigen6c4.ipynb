{
 "cells": [
  {
   "cell_type": "markdown",
   "metadata": {},
   "source": [
    "# Campo de gravidade sobre a margem leste brasileira"
   ]
  },
  {
   "cell_type": "markdown",
   "metadata": {},
   "source": [
    "Este script mostra o campo de gravidade predito pelo modelo global [eigen 6c4](http://icgem.gfz-potsdam.de/ICGEM/documents/Foerste-et-al-EIGEN-6C4.pdf) (Förste et al., 2014). Os coeficientes da expansão em hamônicos esféricos que descreve este modelo global podem ser baixados no site do [IGCEM](http://icgem.gfz-potsdam.de/ICGEM/), na página [Table of models](http://icgem.gfz-potsdam.de/ICGEM/modelstab.html)."
   ]
  },
  {
   "cell_type": "markdown",
   "metadata": {},
   "source": [
    "* Förste C., Bruinsma S.L., Abrikosov O., Lemoine J.-M., Schaller T., Götze H.-J., Ebbing J., Marty J.C., Flechtner F., Balmino G., Biancale R., 2014, EIGEN-6C4 The latest combined global gravity field model including GOCE data up to degree and order 2190 of GFZ Potsdam and GRGS Toulouse, 5th GOCE User Workshop, Paris, 25-28 November 2014, url: http://icgem.gfz-potsdam.de/ICGEM/documents/Foerste-et-al-EIGEN-6C4.pdf"
   ]
  },
  {
   "cell_type": "code",
   "execution_count": 1,
   "metadata": {
    "tags": []
   },
   "outputs": [],
   "source": [
    "import numpy as np\n",
    "import matplotlib.pyplot as plt\n",
    "import pandas as pd\n",
    "import geopandas as gpd\n",
    "from pyproj import Geod"
   ]
  },
  {
   "cell_type": "code",
   "execution_count": 2,
   "metadata": {
    "tags": []
   },
   "outputs": [],
   "source": [
    "import gc"
   ]
  },
  {
   "cell_type": "code",
   "execution_count": 3,
   "metadata": {
    "tags": []
   },
   "outputs": [],
   "source": [
    "import gamma"
   ]
  },
  {
   "cell_type": "raw",
   "metadata": {
    "jupyter": {
     "outputs_hidden": false
    }
   },
   "source": [
    "import minhas_funcoes as mf"
   ]
  },
  {
   "cell_type": "raw",
   "metadata": {},
   "source": [
    "### Função para plotar os estados brasileiros"
   ]
  },
  {
   "cell_type": "raw",
   "metadata": {},
   "source": [
    "A função na célula abaixo foi retirada do blog [python4oceanographers](https://ocefpaf.github.io/python4oceanographers/blog/2013/08/12/brazil-states-map/). Os dados `shapefile` com os estados brasileiros foram baixados no site do [Global Administrative Areas](http://www.gadm.org/country)."
   ]
  },
  {
   "cell_type": "raw",
   "metadata": {},
   "source": [
    "def drawstates(ax, shapefile='estados_Brasil/BRA_adm0.shp'):\n",
    "        shp = m.readshapefile(shapefile, 'states', drawbounds=True)\n",
    "        for nshape, seg in enumerate(m.states):\n",
    "            poly = Polygon(seg, facecolor='0.75', edgecolor='k')\n",
    "            ax.add_patch(poly)"
   ]
  },
  {
   "cell_type": "markdown",
   "metadata": {},
   "source": [
    "### Dados baixados no site do [IGCEM](http://icgem.gfz-potsdam.de/ICGEM/)"
   ]
  },
  {
   "cell_type": "markdown",
   "metadata": {},
   "source": [
    "#### Topografia/batimetria predita pelo modelo ETOPO1"
   ]
  },
  {
   "cell_type": "markdown",
   "metadata": {},
   "source": [
    "Nos dados usados aqui, considere que a altura Geoidal é nula em toda a área. Neste caso, as altitudes geométrica e ortométrica são iguais."
   ]
  },
  {
   "cell_type": "code",
   "execution_count": 4,
   "metadata": {
    "tags": []
   },
   "outputs": [],
   "source": [
    "etopo = pd.read_csv(\n",
    "    filepath_or_buffer='aula_5c/etopo1-18525.gdf.txt',\n",
    "    delimiter='\\s+',\n",
    "    names=['longitude', 'latitude', 'topografia'],\n",
    "    skiprows=29\n",
    ")"
   ]
  },
  {
   "cell_type": "code",
   "execution_count": 5,
   "metadata": {
    "tags": []
   },
   "outputs": [
    {
     "data": {
      "text/html": [
       "<div>\n",
       "<style scoped>\n",
       "    .dataframe tbody tr th:only-of-type {\n",
       "        vertical-align: middle;\n",
       "    }\n",
       "\n",
       "    .dataframe tbody tr th {\n",
       "        vertical-align: top;\n",
       "    }\n",
       "\n",
       "    .dataframe thead th {\n",
       "        text-align: right;\n",
       "    }\n",
       "</style>\n",
       "<table border=\"1\" class=\"dataframe\">\n",
       "  <thead>\n",
       "    <tr style=\"text-align: right;\">\n",
       "      <th></th>\n",
       "      <th>longitude</th>\n",
       "      <th>latitude</th>\n",
       "      <th>topografia</th>\n",
       "    </tr>\n",
       "  </thead>\n",
       "  <tbody>\n",
       "    <tr>\n",
       "      <th>0</th>\n",
       "      <td>319.0</td>\n",
       "      <td>-6.0</td>\n",
       "      <td>763.0</td>\n",
       "    </tr>\n",
       "    <tr>\n",
       "      <th>1</th>\n",
       "      <td>319.1</td>\n",
       "      <td>-6.0</td>\n",
       "      <td>830.0</td>\n",
       "    </tr>\n",
       "    <tr>\n",
       "      <th>2</th>\n",
       "      <td>319.2</td>\n",
       "      <td>-6.0</td>\n",
       "      <td>588.0</td>\n",
       "    </tr>\n",
       "    <tr>\n",
       "      <th>3</th>\n",
       "      <td>319.3</td>\n",
       "      <td>-6.0</td>\n",
       "      <td>562.0</td>\n",
       "    </tr>\n",
       "    <tr>\n",
       "      <th>4</th>\n",
       "      <td>319.4</td>\n",
       "      <td>-6.0</td>\n",
       "      <td>517.0</td>\n",
       "    </tr>\n",
       "    <tr>\n",
       "      <th>...</th>\n",
       "      <td>...</td>\n",
       "      <td>...</td>\n",
       "      <td>...</td>\n",
       "    </tr>\n",
       "    <tr>\n",
       "      <th>14236</th>\n",
       "      <td>328.6</td>\n",
       "      <td>-20.0</td>\n",
       "      <td>-4332.0</td>\n",
       "    </tr>\n",
       "    <tr>\n",
       "      <th>14237</th>\n",
       "      <td>328.7</td>\n",
       "      <td>-20.0</td>\n",
       "      <td>-4437.0</td>\n",
       "    </tr>\n",
       "    <tr>\n",
       "      <th>14238</th>\n",
       "      <td>328.8</td>\n",
       "      <td>-20.0</td>\n",
       "      <td>-4397.0</td>\n",
       "    </tr>\n",
       "    <tr>\n",
       "      <th>14239</th>\n",
       "      <td>328.9</td>\n",
       "      <td>-20.0</td>\n",
       "      <td>-4502.0</td>\n",
       "    </tr>\n",
       "    <tr>\n",
       "      <th>14240</th>\n",
       "      <td>329.0</td>\n",
       "      <td>-20.0</td>\n",
       "      <td>-4547.0</td>\n",
       "    </tr>\n",
       "  </tbody>\n",
       "</table>\n",
       "<p>14241 rows × 3 columns</p>\n",
       "</div>"
      ],
      "text/plain": [
       "       longitude  latitude  topografia\n",
       "0          319.0      -6.0       763.0\n",
       "1          319.1      -6.0       830.0\n",
       "2          319.2      -6.0       588.0\n",
       "3          319.3      -6.0       562.0\n",
       "4          319.4      -6.0       517.0\n",
       "...          ...       ...         ...\n",
       "14236      328.6     -20.0     -4332.0\n",
       "14237      328.7     -20.0     -4437.0\n",
       "14238      328.8     -20.0     -4397.0\n",
       "14239      328.9     -20.0     -4502.0\n",
       "14240      329.0     -20.0     -4547.0\n",
       "\n",
       "[14241 rows x 3 columns]"
      ]
     },
     "execution_count": 5,
     "metadata": {},
     "output_type": "execute_result"
    }
   ],
   "source": [
    "etopo"
   ]
  },
  {
   "cell_type": "markdown",
   "metadata": {},
   "source": [
    "#### Distúrbio de gravidade"
   ]
  },
  {
   "cell_type": "code",
   "execution_count": 6,
   "metadata": {
    "tags": []
   },
   "outputs": [],
   "source": [
    "eigen_H_disturbio = pd.read_csv(\n",
    "    filepath_or_buffer='aula_5c/eigen-6c4-18527.gdf.txt',\n",
    "    delimiter='\\s+',\n",
    "    names=['H', 'disturbio'],\n",
    "    usecols=(2,3),\n",
    "    skiprows=35\n",
    ")"
   ]
  },
  {
   "cell_type": "code",
   "execution_count": 7,
   "metadata": {
    "tags": []
   },
   "outputs": [
    {
     "data": {
      "text/html": [
       "<div>\n",
       "<style scoped>\n",
       "    .dataframe tbody tr th:only-of-type {\n",
       "        vertical-align: middle;\n",
       "    }\n",
       "\n",
       "    .dataframe tbody tr th {\n",
       "        vertical-align: top;\n",
       "    }\n",
       "\n",
       "    .dataframe thead th {\n",
       "        text-align: right;\n",
       "    }\n",
       "</style>\n",
       "<table border=\"1\" class=\"dataframe\">\n",
       "  <thead>\n",
       "    <tr style=\"text-align: right;\">\n",
       "      <th></th>\n",
       "      <th>H</th>\n",
       "      <th>disturbio</th>\n",
       "    </tr>\n",
       "  </thead>\n",
       "  <tbody>\n",
       "    <tr>\n",
       "      <th>0</th>\n",
       "      <td>763.0</td>\n",
       "      <td>26.727723</td>\n",
       "    </tr>\n",
       "    <tr>\n",
       "      <th>1</th>\n",
       "      <td>830.0</td>\n",
       "      <td>35.081159</td>\n",
       "    </tr>\n",
       "    <tr>\n",
       "      <th>2</th>\n",
       "      <td>588.0</td>\n",
       "      <td>10.658780</td>\n",
       "    </tr>\n",
       "    <tr>\n",
       "      <th>3</th>\n",
       "      <td>562.0</td>\n",
       "      <td>6.824346</td>\n",
       "    </tr>\n",
       "    <tr>\n",
       "      <th>4</th>\n",
       "      <td>517.0</td>\n",
       "      <td>0.483257</td>\n",
       "    </tr>\n",
       "    <tr>\n",
       "      <th>...</th>\n",
       "      <td>...</td>\n",
       "      <td>...</td>\n",
       "    </tr>\n",
       "    <tr>\n",
       "      <th>14236</th>\n",
       "      <td>0.0</td>\n",
       "      <td>-4.540188</td>\n",
       "    </tr>\n",
       "    <tr>\n",
       "      <th>14237</th>\n",
       "      <td>0.0</td>\n",
       "      <td>-5.326420</td>\n",
       "    </tr>\n",
       "    <tr>\n",
       "      <th>14238</th>\n",
       "      <td>0.0</td>\n",
       "      <td>-6.192298</td>\n",
       "    </tr>\n",
       "    <tr>\n",
       "      <th>14239</th>\n",
       "      <td>0.0</td>\n",
       "      <td>-7.684612</td>\n",
       "    </tr>\n",
       "    <tr>\n",
       "      <th>14240</th>\n",
       "      <td>0.0</td>\n",
       "      <td>-5.702524</td>\n",
       "    </tr>\n",
       "  </tbody>\n",
       "</table>\n",
       "<p>14241 rows × 2 columns</p>\n",
       "</div>"
      ],
      "text/plain": [
       "           H  disturbio\n",
       "0      763.0  26.727723\n",
       "1      830.0  35.081159\n",
       "2      588.0  10.658780\n",
       "3      562.0   6.824346\n",
       "4      517.0   0.483257\n",
       "...      ...        ...\n",
       "14236    0.0  -4.540188\n",
       "14237    0.0  -5.326420\n",
       "14238    0.0  -6.192298\n",
       "14239    0.0  -7.684612\n",
       "14240    0.0  -5.702524\n",
       "\n",
       "[14241 rows x 2 columns]"
      ]
     },
     "execution_count": 7,
     "metadata": {},
     "output_type": "execute_result"
    }
   ],
   "source": [
    "eigen_H_disturbio"
   ]
  },
  {
   "cell_type": "markdown",
   "metadata": {},
   "source": [
    "#### Gravidade"
   ]
  },
  {
   "cell_type": "code",
   "execution_count": 8,
   "metadata": {
    "tags": []
   },
   "outputs": [],
   "source": [
    "eigen_gravidade = pd.read_csv(\n",
    "    filepath_or_buffer='aula_5c/eigen-6c4-18528.gdf.txt',\n",
    "    delimiter='\\s+',\n",
    "    names=['gravidade'],\n",
    "    usecols=(3,),\n",
    "    skiprows=34\n",
    ")"
   ]
  },
  {
   "cell_type": "code",
   "execution_count": 9,
   "metadata": {
    "tags": []
   },
   "outputs": [
    {
     "data": {
      "text/html": [
       "<div>\n",
       "<style scoped>\n",
       "    .dataframe tbody tr th:only-of-type {\n",
       "        vertical-align: middle;\n",
       "    }\n",
       "\n",
       "    .dataframe tbody tr th {\n",
       "        vertical-align: top;\n",
       "    }\n",
       "\n",
       "    .dataframe thead th {\n",
       "        text-align: right;\n",
       "    }\n",
       "</style>\n",
       "<table border=\"1\" class=\"dataframe\">\n",
       "  <thead>\n",
       "    <tr style=\"text-align: right;\">\n",
       "      <th></th>\n",
       "      <th>gravidade</th>\n",
       "    </tr>\n",
       "  </thead>\n",
       "  <tbody>\n",
       "    <tr>\n",
       "      <th>0</th>\n",
       "      <td>977884.247772</td>\n",
       "    </tr>\n",
       "    <tr>\n",
       "      <th>1</th>\n",
       "      <td>977871.796040</td>\n",
       "    </tr>\n",
       "    <tr>\n",
       "      <th>2</th>\n",
       "      <td>977922.023642</td>\n",
       "    </tr>\n",
       "    <tr>\n",
       "      <th>3</th>\n",
       "      <td>977926.165638</td>\n",
       "    </tr>\n",
       "    <tr>\n",
       "      <th>4</th>\n",
       "      <td>977933.660376</td>\n",
       "    </tr>\n",
       "    <tr>\n",
       "      <th>...</th>\n",
       "      <td>...</td>\n",
       "    </tr>\n",
       "    <tr>\n",
       "      <th>14236</th>\n",
       "      <td>978633.792703</td>\n",
       "    </tr>\n",
       "    <tr>\n",
       "      <th>14237</th>\n",
       "      <td>978633.024479</td>\n",
       "    </tr>\n",
       "    <tr>\n",
       "      <th>14238</th>\n",
       "      <td>978632.174005</td>\n",
       "    </tr>\n",
       "    <tr>\n",
       "      <th>14239</th>\n",
       "      <td>978630.695687</td>\n",
       "    </tr>\n",
       "    <tr>\n",
       "      <th>14240</th>\n",
       "      <td>978632.685100</td>\n",
       "    </tr>\n",
       "  </tbody>\n",
       "</table>\n",
       "<p>14241 rows × 1 columns</p>\n",
       "</div>"
      ],
      "text/plain": [
       "           gravidade\n",
       "0      977884.247772\n",
       "1      977871.796040\n",
       "2      977922.023642\n",
       "3      977926.165638\n",
       "4      977933.660376\n",
       "...              ...\n",
       "14236  978633.792703\n",
       "14237  978633.024479\n",
       "14238  978632.174005\n",
       "14239  978630.695687\n",
       "14240  978632.685100\n",
       "\n",
       "[14241 rows x 1 columns]"
      ]
     },
     "execution_count": 9,
     "metadata": {},
     "output_type": "execute_result"
    }
   ],
   "source": [
    "eigen_gravidade"
   ]
  },
  {
   "cell_type": "markdown",
   "metadata": {},
   "source": [
    "#### Dados combinados"
   ]
  },
  {
   "cell_type": "code",
   "execution_count": 10,
   "metadata": {
    "tags": []
   },
   "outputs": [],
   "source": [
    "dados_combinados = pd.concat(\n",
    "    objs=[etopo, eigen_H_disturbio, eigen_gravidade],\n",
    "    axis=1,\n",
    "    join='outer'\n",
    ")"
   ]
  },
  {
   "cell_type": "code",
   "execution_count": 11,
   "metadata": {
    "tags": []
   },
   "outputs": [
    {
     "data": {
      "text/html": [
       "<div>\n",
       "<style scoped>\n",
       "    .dataframe tbody tr th:only-of-type {\n",
       "        vertical-align: middle;\n",
       "    }\n",
       "\n",
       "    .dataframe tbody tr th {\n",
       "        vertical-align: top;\n",
       "    }\n",
       "\n",
       "    .dataframe thead th {\n",
       "        text-align: right;\n",
       "    }\n",
       "</style>\n",
       "<table border=\"1\" class=\"dataframe\">\n",
       "  <thead>\n",
       "    <tr style=\"text-align: right;\">\n",
       "      <th></th>\n",
       "      <th>longitude</th>\n",
       "      <th>latitude</th>\n",
       "      <th>topografia</th>\n",
       "      <th>H</th>\n",
       "      <th>disturbio</th>\n",
       "      <th>gravidade</th>\n",
       "    </tr>\n",
       "  </thead>\n",
       "  <tbody>\n",
       "    <tr>\n",
       "      <th>0</th>\n",
       "      <td>319.0</td>\n",
       "      <td>-6.0</td>\n",
       "      <td>763.0</td>\n",
       "      <td>763.0</td>\n",
       "      <td>26.727723</td>\n",
       "      <td>977884.247772</td>\n",
       "    </tr>\n",
       "    <tr>\n",
       "      <th>1</th>\n",
       "      <td>319.1</td>\n",
       "      <td>-6.0</td>\n",
       "      <td>830.0</td>\n",
       "      <td>830.0</td>\n",
       "      <td>35.081159</td>\n",
       "      <td>977871.796040</td>\n",
       "    </tr>\n",
       "    <tr>\n",
       "      <th>2</th>\n",
       "      <td>319.2</td>\n",
       "      <td>-6.0</td>\n",
       "      <td>588.0</td>\n",
       "      <td>588.0</td>\n",
       "      <td>10.658780</td>\n",
       "      <td>977922.023642</td>\n",
       "    </tr>\n",
       "    <tr>\n",
       "      <th>3</th>\n",
       "      <td>319.3</td>\n",
       "      <td>-6.0</td>\n",
       "      <td>562.0</td>\n",
       "      <td>562.0</td>\n",
       "      <td>6.824346</td>\n",
       "      <td>977926.165638</td>\n",
       "    </tr>\n",
       "    <tr>\n",
       "      <th>4</th>\n",
       "      <td>319.4</td>\n",
       "      <td>-6.0</td>\n",
       "      <td>517.0</td>\n",
       "      <td>517.0</td>\n",
       "      <td>0.483257</td>\n",
       "      <td>977933.660376</td>\n",
       "    </tr>\n",
       "    <tr>\n",
       "      <th>...</th>\n",
       "      <td>...</td>\n",
       "      <td>...</td>\n",
       "      <td>...</td>\n",
       "      <td>...</td>\n",
       "      <td>...</td>\n",
       "      <td>...</td>\n",
       "    </tr>\n",
       "    <tr>\n",
       "      <th>14236</th>\n",
       "      <td>328.6</td>\n",
       "      <td>-20.0</td>\n",
       "      <td>-4332.0</td>\n",
       "      <td>0.0</td>\n",
       "      <td>-4.540188</td>\n",
       "      <td>978633.792703</td>\n",
       "    </tr>\n",
       "    <tr>\n",
       "      <th>14237</th>\n",
       "      <td>328.7</td>\n",
       "      <td>-20.0</td>\n",
       "      <td>-4437.0</td>\n",
       "      <td>0.0</td>\n",
       "      <td>-5.326420</td>\n",
       "      <td>978633.024479</td>\n",
       "    </tr>\n",
       "    <tr>\n",
       "      <th>14238</th>\n",
       "      <td>328.8</td>\n",
       "      <td>-20.0</td>\n",
       "      <td>-4397.0</td>\n",
       "      <td>0.0</td>\n",
       "      <td>-6.192298</td>\n",
       "      <td>978632.174005</td>\n",
       "    </tr>\n",
       "    <tr>\n",
       "      <th>14239</th>\n",
       "      <td>328.9</td>\n",
       "      <td>-20.0</td>\n",
       "      <td>-4502.0</td>\n",
       "      <td>0.0</td>\n",
       "      <td>-7.684612</td>\n",
       "      <td>978630.695687</td>\n",
       "    </tr>\n",
       "    <tr>\n",
       "      <th>14240</th>\n",
       "      <td>329.0</td>\n",
       "      <td>-20.0</td>\n",
       "      <td>-4547.0</td>\n",
       "      <td>0.0</td>\n",
       "      <td>-5.702524</td>\n",
       "      <td>978632.685100</td>\n",
       "    </tr>\n",
       "  </tbody>\n",
       "</table>\n",
       "<p>14241 rows × 6 columns</p>\n",
       "</div>"
      ],
      "text/plain": [
       "       longitude  latitude  topografia      H  disturbio      gravidade\n",
       "0          319.0      -6.0       763.0  763.0  26.727723  977884.247772\n",
       "1          319.1      -6.0       830.0  830.0  35.081159  977871.796040\n",
       "2          319.2      -6.0       588.0  588.0  10.658780  977922.023642\n",
       "3          319.3      -6.0       562.0  562.0   6.824346  977926.165638\n",
       "4          319.4      -6.0       517.0  517.0   0.483257  977933.660376\n",
       "...          ...       ...         ...    ...        ...            ...\n",
       "14236      328.6     -20.0     -4332.0    0.0  -4.540188  978633.792703\n",
       "14237      328.7     -20.0     -4437.0    0.0  -5.326420  978633.024479\n",
       "14238      328.8     -20.0     -4397.0    0.0  -6.192298  978632.174005\n",
       "14239      328.9     -20.0     -4502.0    0.0  -7.684612  978630.695687\n",
       "14240      329.0     -20.0     -4547.0    0.0  -5.702524  978632.685100\n",
       "\n",
       "[14241 rows x 6 columns]"
      ]
     },
     "execution_count": 11,
     "metadata": {},
     "output_type": "execute_result"
    }
   ],
   "source": [
    "dados_combinados"
   ]
  },
  {
   "cell_type": "code",
   "execution_count": 12,
   "metadata": {
    "tags": []
   },
   "outputs": [
    {
     "data": {
      "text/plain": [
       "0"
      ]
     },
     "execution_count": 12,
     "metadata": {},
     "output_type": "execute_result"
    }
   ],
   "source": [
    "# Apaga variáveis desnecessárias\n",
    "del etopo, eigen_H_disturbio, eigen_gravidade\n",
    "gc.collect()"
   ]
  },
  {
   "cell_type": "raw",
   "metadata": {},
   "source": [
    "### Coordenadas x y da projeção cartográfica"
   ]
  },
  {
   "cell_type": "raw",
   "metadata": {},
   "source": [
    "A projeção foi calculada com o [Basemap](http://matplotlib.org/basemap/users/index.html). Para os exemplos mostrados abaixo, a projeção escolhida foi a [Transversa de Mercator](http://matplotlib.org/basemap/users/tmerc.html)."
   ]
  },
  {
   "cell_type": "raw",
   "metadata": {},
   "source": [
    "m = Basemap(llcrnrlon=longitude_min,llcrnrlat=latitude_min,\n",
    "            urcrnrlon=longitude_max,urcrnrlat=latitude_max,\n",
    "            resolution='i',projection='tmerc',\n",
    "            lon_0=longitude_central,lat_0=latitude_central)\n",
    "x, y = m(longitude, latitude)"
   ]
  },
  {
   "cell_type": "raw",
   "metadata": {
    "jupyter": {
     "outputs_hidden": false
    }
   },
   "source": [
    "_ = mf.estatistica(0.001*x, 'km')"
   ]
  },
  {
   "cell_type": "raw",
   "metadata": {
    "jupyter": {
     "outputs_hidden": false
    }
   },
   "source": [
    "_ = mf.estatistica(0.001*y, 'km')"
   ]
  },
  {
   "cell_type": "markdown",
   "metadata": {},
   "source": [
    "### Parâmetros do datum geodésico WGS84"
   ]
  },
  {
   "cell_type": "code",
   "execution_count": 13,
   "metadata": {
    "tags": []
   },
   "outputs": [],
   "source": [
    "a, f, GM, omega = gamma.WGS84()"
   ]
  },
  {
   "cell_type": "markdown",
   "metadata": {},
   "source": [
    "### Gravidade normal"
   ]
  },
  {
   "cell_type": "markdown",
   "metadata": {},
   "source": [
    "**Sobre a topografia**"
   ]
  },
  {
   "cell_type": "code",
   "execution_count": 14,
   "metadata": {
    "tags": []
   },
   "outputs": [],
   "source": [
    "dados_combinados['gamma'] = gamma.closedform(a, f, GM, omega, dados_combinados['latitude'], dados_combinados['H'])"
   ]
  },
  {
   "cell_type": "markdown",
   "metadata": {},
   "source": [
    "**Sobre o elipsoide WGS84**"
   ]
  },
  {
   "cell_type": "code",
   "execution_count": 15,
   "metadata": {
    "tags": []
   },
   "outputs": [],
   "source": [
    "dados_combinados['gamma-0'] = gamma.closedform(a, f, GM, omega, dados_combinados['latitude'], \n",
    "                                                        np.zeros_like(dados_combinados['H']))"
   ]
  },
  {
   "cell_type": "markdown",
   "metadata": {},
   "source": [
    "### Anomalias calculadas"
   ]
  },
  {
   "cell_type": "markdown",
   "metadata": {},
   "source": [
    "**Constante Gravitacional** (ou [*Newtonian constant of gravitation*](http://physics.nist.gov/cgi-bin/cuu/Category?view=html&Universal.x=58&Universal.y=11)) em $\\frac{m^{3}}{kg \\, s^{2}}$"
   ]
  },
  {
   "cell_type": "code",
   "execution_count": 16,
   "metadata": {
    "tags": []
   },
   "outputs": [],
   "source": [
    "G = 6.67408e-11"
   ]
  },
  {
   "cell_type": "markdown",
   "metadata": {},
   "source": [
    "**Correção Ar-livre**"
   ]
  },
  {
   "cell_type": "code",
   "execution_count": 17,
   "metadata": {
    "tags": []
   },
   "outputs": [],
   "source": [
    "dados_combinados['ca'] = -0.3086*dados_combinados['H']"
   ]
  },
  {
   "cell_type": "markdown",
   "metadata": {},
   "source": [
    "**Correção de Bouguer (platô)**"
   ]
  },
  {
   "cell_type": "markdown",
   "metadata": {},
   "source": [
    "Neste cálculo foi considerado uma densidade de $\\rho = \\rho_{cc} \\: \\frac{kg}{m^{3}}$ para a correção sobre os continentes (altitudes positivas) e uma densidade de $\\rho = (\\rho_{co} - \\rho_{a})\\: \\frac{kg}{m^{3}}$ para a correção sobre os oceanos (altitudes negativas), em que $\\rho_{cc} = 2670 \\: \\frac{kg}{m^{3}}$, $\\rho_{co} = 2900 \\: \\frac{kg}{m^{3}}$ e $\\rho_{a} = 1025 \\: \\frac{kg}{m^{3}}$ representam, respectivamente, as densidades da crosta continental, crosta oceânica e da água dos oceanos."
   ]
  },
  {
   "cell_type": "code",
   "execution_count": 18,
   "metadata": {
    "tags": []
   },
   "outputs": [],
   "source": [
    "rho_cc = 2670.\n",
    "rho_co = 2900.\n",
    "rho_a = 1025."
   ]
  },
  {
   "cell_type": "code",
   "execution_count": 20,
   "metadata": {
    "tags": []
   },
   "outputs": [],
   "source": [
    "cb_continente = np.zeros(dados_combinados.shape[0], dtype=float)\n",
    "cb_continente[dados_combinados['H'] > 0] = 2.*np.pi*G*1.0e5*rho_cc*dados_combinados['H'][dados_combinados['H'] > 0]"
   ]
  },
  {
   "cell_type": "code",
   "execution_count": 21,
   "metadata": {
    "tags": []
   },
   "outputs": [],
   "source": [
    "cb_oceano = np.zeros(dados_combinados.shape[0], dtype=float)\n",
    "cb_oceano[dados_combinados['H'] < 0] = 2.*np.pi*G*1.0e5*(rho_co - rho_a)*dados_combinados['H'][dados_combinados['H'] < 0]"
   ]
  },
  {
   "cell_type": "code",
   "execution_count": 22,
   "metadata": {
    "tags": []
   },
   "outputs": [],
   "source": [
    "dados_combinados['cb'] = cb_continente + cb_oceano"
   ]
  },
  {
   "cell_type": "code",
   "execution_count": 23,
   "metadata": {
    "tags": []
   },
   "outputs": [
    {
     "data": {
      "text/plain": [
       "685"
      ]
     },
     "execution_count": 23,
     "metadata": {},
     "output_type": "execute_result"
    }
   ],
   "source": [
    "del cb_continente, cb_oceano\n",
    "gc.collect()"
   ]
  },
  {
   "cell_type": "markdown",
   "metadata": {},
   "source": [
    "**Anomalia Ar-livre**"
   ]
  },
  {
   "cell_type": "code",
   "execution_count": 26,
   "metadata": {
    "tags": []
   },
   "outputs": [],
   "source": [
    "dados_combinados['ar-livre'] = (\n",
    "    dados_combinados['gravidade'] - \n",
    "    dados_combinados['gamma-0'] - \n",
    "    dados_combinados['ca']\n",
    ")"
   ]
  },
  {
   "cell_type": "markdown",
   "metadata": {},
   "source": [
    "**Anomalia Bouguer (incompleta)**"
   ]
  },
  {
   "cell_type": "code",
   "execution_count": 27,
   "metadata": {
    "tags": []
   },
   "outputs": [],
   "source": [
    "dados_combinados['Bouguer'] = (\n",
    "    dados_combinados['gravidade'] - \n",
    "    dados_combinados['gamma-0'] - \n",
    "    dados_combinados['ca'] - \n",
    "    dados_combinados['cb']\n",
    ")"
   ]
  },
  {
   "cell_type": "markdown",
   "metadata": {},
   "source": [
    "**Distúrbio de gravidade**"
   ]
  },
  {
   "cell_type": "code",
   "execution_count": 28,
   "metadata": {
    "tags": []
   },
   "outputs": [],
   "source": [
    "disturbio_calculado = dados_combinados['gravidade'] - dados_combinados['gamma']"
   ]
  },
  {
   "cell_type": "markdown",
   "metadata": {},
   "source": [
    "**Moho isostática (modelo de Airy-Heiskanen)**"
   ]
  },
  {
   "cell_type": "markdown",
   "metadata": {},
   "source": [
    "O modelo de Airy Heiskanen é um modelo de compensação isostática local, que considera a existência de um espessamento crustal $t_{c}$ sob os continentes e um afinamento crustal $t_{o}$ sob os oceanos. Geralmente, o espessamento crustal é denominado *raiz* e o afinamento crustal é denominado *antirraiz*. Ambos são definidos em relação a uma espessura crustal de referência $T$ e calculados em função da altitude $h$, das densidades $\\rho_{cc}$ e $\\rho_{co}$ das crostas continental e oceânica, respectivamente, da densidade $\\rho_{m}$ do manto e da densidade $\\rho_{a}$ da água dos oceanos."
   ]
  },
  {
   "cell_type": "markdown",
   "metadata": {},
   "source": [
    "$t_{c} = \\dfrac{\\rho_{cc}}{\\rho_{m} - \\rho_{cc}} \\, h$, em que $h > 0$ (espessamento sob os continentes)"
   ]
  },
  {
   "cell_type": "markdown",
   "metadata": {},
   "source": [
    "$t_{o} = \\dfrac{\\rho_{co} - \\rho_{a}}{\\rho_{m} - \\rho_{co}} \\, h$, em que $h < 0$ (afinamento sob os oceanos)"
   ]
  },
  {
   "cell_type": "code",
   "execution_count": 29,
   "metadata": {
    "tags": []
   },
   "outputs": [],
   "source": [
    "T = 40000.0 # metros\n",
    "rho_m = 3270.0 "
   ]
  },
  {
   "cell_type": "code",
   "execution_count": 30,
   "metadata": {
    "tags": []
   },
   "outputs": [],
   "source": [
    "tc = np.zeros(dados_combinados.shape[0], dtype=float)\n",
    "tc[dados_combinados['H'] > 0] = rho_cc*dados_combinados['H'][dados_combinados['H'] > 0]/(rho_m - rho_cc)"
   ]
  },
  {
   "cell_type": "code",
   "execution_count": 31,
   "metadata": {
    "tags": []
   },
   "outputs": [],
   "source": [
    "to = np.zeros(dados_combinados.shape[0], dtype=float)\n",
    "to[dados_combinados['H'] < 0] = (rho_co - rho_a)*dados_combinados['H'][dados_combinados['H'] < 0]/(rho_m - rho_co)"
   ]
  },
  {
   "cell_type": "code",
   "execution_count": 32,
   "metadata": {
    "tags": []
   },
   "outputs": [],
   "source": [
    "dados_combinados['moho-AH'] = T + tc + to"
   ]
  },
  {
   "cell_type": "code",
   "execution_count": 33,
   "metadata": {
    "tags": []
   },
   "outputs": [
    {
     "data": {
      "text/plain": [
       "2407"
      ]
     },
     "execution_count": 33,
     "metadata": {},
     "output_type": "execute_result"
    }
   ],
   "source": [
    "del tc, to\n",
    "gc.collect()"
   ]
  },
  {
   "cell_type": "markdown",
   "metadata": {},
   "source": [
    "**Correção isostática (Modelo de Airy-Heiskanen com aproximação do platô de Bouguer)**"
   ]
  },
  {
   "cell_type": "markdown",
   "metadata": {},
   "source": [
    "A correção isostática consiste em remover o efeito gravitacional produzido por ondulações na base da crosta. A correção isostática utilizada neste trabalho é baseada no modelo de Airy-Heiskanen com aproximação do platô de Bouguer. Tal correção tem a seguinte expressão:"
   ]
  },
  {
   "cell_type": "markdown",
   "metadata": {},
   "source": [
    "$ci_{c} = -2 \\pi G \\, \\rho_{cc} h$, em que $h > 0$ (dados sobre os continentes)"
   ]
  },
  {
   "cell_type": "markdown",
   "metadata": {},
   "source": [
    "$ci_{o} = 2 \\pi G \\, \\left( \\rho_{co} - \\rho_{a} \\right) h$, em que $h < 0$ (dados sobre o oceano)"
   ]
  },
  {
   "cell_type": "code",
   "execution_count": 34,
   "metadata": {
    "collapsed": false,
    "jupyter": {
     "outputs_hidden": false
    },
    "tags": []
   },
   "outputs": [],
   "source": [
    "cic = np.zeros(dados_combinados.shape[0], dtype=float)\n",
    "cic[dados_combinados['H'] > 0] = 2.*np.pi*G*rho_cc*1.0e5*dados_combinados['H'][dados_combinados['H'] > 0]"
   ]
  },
  {
   "cell_type": "code",
   "execution_count": 36,
   "metadata": {
    "collapsed": false,
    "jupyter": {
     "outputs_hidden": false
    },
    "tags": []
   },
   "outputs": [],
   "source": [
    "cio = np.zeros(dados_combinados.shape[0], dtype=float)\n",
    "cio[dados_combinados['H'] < 0] = -2.*np.pi*G*(rho_co - rho_a)*1.0e5*dados_combinados['H'][dados_combinados['H'] < 0]"
   ]
  },
  {
   "cell_type": "code",
   "execution_count": 37,
   "metadata": {
    "collapsed": false,
    "jupyter": {
     "outputs_hidden": false
    },
    "tags": []
   },
   "outputs": [],
   "source": [
    "dados_combinados['ci'] = cic + cio"
   ]
  },
  {
   "cell_type": "code",
   "execution_count": 38,
   "metadata": {
    "tags": []
   },
   "outputs": [],
   "source": [
    "dados_combinados['an-isostatica'] = dados_combinados['Bouguer'] - dados_combinados['ci']"
   ]
  },
  {
   "cell_type": "code",
   "execution_count": 39,
   "metadata": {
    "tags": []
   },
   "outputs": [
    {
     "data": {
      "text/plain": [
       "1044"
      ]
     },
     "execution_count": 39,
     "metadata": {},
     "output_type": "execute_result"
    }
   ],
   "source": [
    "del cic, cio\n",
    "gc.collect()"
   ]
  },
  {
   "cell_type": "markdown",
   "metadata": {},
   "source": [
    "**Pontos iniciais e finais dos perfis analisados**"
   ]
  },
  {
   "cell_type": "markdown",
   "metadata": {},
   "source": [
    "longitude_tmp, latitude_tmp = np.loadtxt('Linhas_sismicas/0066-0100_lon_lat', usecols=(0,1), unpack=True)\n",
    "longitudes_perfis = [np.min(longitude_tmp), np.max(longitude_tmp)]\n",
    "latitudes_perfis = [np.min(latitude_tmp), np.max(latitude_tmp)]\n",
    "\n",
    "longitude_tmp, latitude_tmp = np.loadtxt('Linhas_sismicas/0259-1401_lon_lat', usecols=(0,1), unpack=True)\n",
    "longitudes_perfis += [np.min(longitude_tmp), np.max(longitude_tmp)]\n",
    "latitudes_perfis += [np.min(latitude_tmp), np.max(latitude_tmp)]\n",
    "\n",
    "longitude_tmp, latitude_tmp = np.loadtxt('Linhas_sismicas/VB00-182_lon_lat', usecols=(0,1), unpack=True)\n",
    "longitudes_perfis += [np.min(longitude_tmp), np.max(longitude_tmp)]\n",
    "latitudes_perfis += [np.min(latitude_tmp), np.max(latitude_tmp)]"
   ]
  },
  {
   "cell_type": "code",
   "execution_count": null,
   "metadata": {},
   "outputs": [],
   "source": [
    "longitudes_perfis = [360. - 40., 360. - 36.,\n",
    "                     360. - 38.5, 360. - 34.5,\n",
    "                     360. - 38., 360. - 34.,\n",
    "                     360. - 36., 360. - 32.]\n",
    "latitudes_perfis = [-14., -14.,\n",
    "                    -12., -14.,\n",
    "                    -10., -12.,\n",
    "                    -8.5,  -11.]"
   ]
  },
  {
   "cell_type": "code",
   "execution_count": null,
   "metadata": {
    "collapsed": false,
    "jupyter": {
     "outputs_hidden": false
    }
   },
   "outputs": [],
   "source": [
    "longitudes_perfis = np.array(longitudes_perfis)\n",
    "latitudes_perfis = np.array(latitudes_perfis)"
   ]
  },
  {
   "cell_type": "code",
   "execution_count": null,
   "metadata": {
    "collapsed": false,
    "jupyter": {
     "outputs_hidden": false
    }
   },
   "outputs": [],
   "source": [
    "p1, p2 = m(longitudes_perfis, latitudes_perfis)\n",
    "perfis = np.transpose([p1,p2])"
   ]
  },
  {
   "cell_type": "markdown",
   "metadata": {},
   "source": [
    "**Perfil 1 (mais ao sul)**"
   ]
  },
  {
   "cell_type": "code",
   "execution_count": null,
   "metadata": {},
   "outputs": [],
   "source": [
    "perfil_topografia1 = gridder.profile(x, y, topografia, perfis[0,:], perfis[1,:], 200)"
   ]
  },
  {
   "cell_type": "code",
   "execution_count": null,
   "metadata": {},
   "outputs": [],
   "source": [
    "perfil_bouguer1 = gridder.profile(x, y, bouguer, perfis[0,:], perfis[1,:], 200)"
   ]
  },
  {
   "cell_type": "code",
   "execution_count": null,
   "metadata": {},
   "outputs": [],
   "source": [
    "perfil_disturbio1 = gridder.profile(x, y, disturbio, perfis[0,:], perfis[1,:], 200)"
   ]
  },
  {
   "cell_type": "code",
   "execution_count": null,
   "metadata": {},
   "outputs": [],
   "source": [
    "perfil_moho_ah1 = gridder.profile(x, y, -moho_ah, perfis[0,:], perfis[1,:], 200)"
   ]
  },
  {
   "cell_type": "code",
   "execution_count": null,
   "metadata": {},
   "outputs": [],
   "source": [
    "perfil_an_isostatica1 = gridder.profile(x, y, an_isostatica, perfis[0,:], perfis[1,:], 200)"
   ]
  },
  {
   "cell_type": "markdown",
   "metadata": {},
   "source": [
    "**Perfil 2**"
   ]
  },
  {
   "cell_type": "code",
   "execution_count": null,
   "metadata": {},
   "outputs": [],
   "source": [
    "perfil_topografia2 = gridder.profile(x, y, topografia, perfis[2,:], perfis[3,:], 200)"
   ]
  },
  {
   "cell_type": "code",
   "execution_count": null,
   "metadata": {},
   "outputs": [],
   "source": [
    "perfil_bouguer2 = gridder.profile(x, y, bouguer, perfis[2,:], perfis[3,:], 200)"
   ]
  },
  {
   "cell_type": "code",
   "execution_count": null,
   "metadata": {},
   "outputs": [],
   "source": [
    "perfil_disturbio2 = gridder.profile(x, y, disturbio, perfis[2,:], perfis[3,:], 200)"
   ]
  },
  {
   "cell_type": "code",
   "execution_count": null,
   "metadata": {},
   "outputs": [],
   "source": [
    "perfil_moho_ah2 = gridder.profile(x, y, -moho_ah, perfis[2,:], perfis[3,:], 200)"
   ]
  },
  {
   "cell_type": "code",
   "execution_count": null,
   "metadata": {},
   "outputs": [],
   "source": [
    "perfil_an_isostatica2 = gridder.profile(x, y, an_isostatica, perfis[2,:], perfis[3,:], 200)"
   ]
  },
  {
   "cell_type": "markdown",
   "metadata": {},
   "source": [
    "**Perfil 3**"
   ]
  },
  {
   "cell_type": "code",
   "execution_count": null,
   "metadata": {},
   "outputs": [],
   "source": [
    "perfil_topografia3 = gridder.profile(x, y, topografia, perfis[4,:], perfis[5,:], 200)"
   ]
  },
  {
   "cell_type": "code",
   "execution_count": null,
   "metadata": {},
   "outputs": [],
   "source": [
    "perfil_bouguer3 = gridder.profile(x, y, bouguer, perfis[4,:], perfis[5,:], 200)"
   ]
  },
  {
   "cell_type": "code",
   "execution_count": null,
   "metadata": {},
   "outputs": [],
   "source": [
    "perfil_disturbio3 = gridder.profile(x, y, disturbio, perfis[4,:], perfis[5,:], 200)"
   ]
  },
  {
   "cell_type": "code",
   "execution_count": null,
   "metadata": {},
   "outputs": [],
   "source": [
    "perfil_moho_ah3 = gridder.profile(x, y, -moho_ah, perfis[4,:], perfis[5,:], 200)"
   ]
  },
  {
   "cell_type": "code",
   "execution_count": null,
   "metadata": {},
   "outputs": [],
   "source": [
    "perfil_an_isostatica3 = gridder.profile(x, y, an_isostatica, perfis[4,:], perfis[5,:], 200)"
   ]
  },
  {
   "cell_type": "markdown",
   "metadata": {},
   "source": [
    "**Perfil 4 (mais ao norte)**"
   ]
  },
  {
   "cell_type": "code",
   "execution_count": null,
   "metadata": {},
   "outputs": [],
   "source": [
    "perfil_topografia4 = gridder.profile(x, y, topografia, perfis[6,:], perfis[7,:], 200)"
   ]
  },
  {
   "cell_type": "code",
   "execution_count": null,
   "metadata": {},
   "outputs": [],
   "source": [
    "perfil_bouguer4 = gridder.profile(x, y, bouguer, perfis[6,:], perfis[7,:], 200)"
   ]
  },
  {
   "cell_type": "code",
   "execution_count": null,
   "metadata": {},
   "outputs": [],
   "source": [
    "perfil_disturbio4 = gridder.profile(x, y, disturbio, perfis[6,:], perfis[7,:], 200)"
   ]
  },
  {
   "cell_type": "code",
   "execution_count": null,
   "metadata": {},
   "outputs": [],
   "source": [
    "perfil_moho_ah4 = gridder.profile(x, y, -moho_ah, perfis[6,:], perfis[7,:], 200)"
   ]
  },
  {
   "cell_type": "code",
   "execution_count": null,
   "metadata": {},
   "outputs": [],
   "source": [
    "perfil_an_isostatica4 = gridder.profile(x, y, an_isostatica, perfis[6,:], perfis[7,:], 200)"
   ]
  },
  {
   "cell_type": "markdown",
   "metadata": {},
   "source": [
    "### Estatísticas e \"mapas\""
   ]
  },
  {
   "cell_type": "code",
   "execution_count": null,
   "metadata": {
    "collapsed": false,
    "jupyter": {
     "outputs_hidden": false
    }
   },
   "outputs": [],
   "source": [
    "topografia_min, topografia_media, topografia_max, topografia_var = mf.estatistica(topografia, 'm')"
   ]
  },
  {
   "cell_type": "code",
   "execution_count": null,
   "metadata": {
    "collapsed": false,
    "jupyter": {
     "outputs_hidden": false
    }
   },
   "outputs": [],
   "source": [
    "mf.plota_mapa(m, x, y, topografia, area, 'm', 'Topografia/batimetria - ETOPO1', 'gist_earth', \n",
    "              (18, 12), 2., perfis, estados=True, escala=True, eixos=True)"
   ]
  },
  {
   "cell_type": "code",
   "execution_count": null,
   "metadata": {
    "collapsed": false,
    "jupyter": {
     "outputs_hidden": false
    }
   },
   "outputs": [],
   "source": [
    "disturbio_min, disturbio_medio, disturbio_max, disturbio_var = mf.estatistica(disturbio, 'mGal')"
   ]
  },
  {
   "cell_type": "code",
   "execution_count": null,
   "metadata": {
    "collapsed": false,
    "jupyter": {
     "outputs_hidden": false
    }
   },
   "outputs": [],
   "source": [
    "mf.plota_mapa(m, x, y, disturbio, area, 'mGal', 'Disturbio de gravidade - modelo eigen 6c4', 'RdBu_r',\n",
    "              (18, 12), 2., perfis, estados=True, escala=True, eixos=True)"
   ]
  },
  {
   "cell_type": "code",
   "execution_count": null,
   "metadata": {
    "collapsed": false,
    "jupyter": {
     "outputs_hidden": false
    }
   },
   "outputs": [],
   "source": [
    "disturbio_calc_min, disturbio_calc_medio, disturbio_calc_max, disturbio_calc_var = mf.estatistica(disturbio_calculado, 'mGal')"
   ]
  },
  {
   "cell_type": "code",
   "execution_count": null,
   "metadata": {
    "collapsed": false,
    "jupyter": {
     "outputs_hidden": false
    }
   },
   "outputs": [],
   "source": [
    "mf.plota_mapa(m, x, y, disturbio_calculado, area, 'mGal', 'Disturbio de gravidade - calculado', 'RdBu_r',\n",
    "              (18, 12), 2., perfis, estados=True, escala=True, eixos=True)"
   ]
  },
  {
   "cell_type": "code",
   "execution_count": null,
   "metadata": {
    "collapsed": false,
    "jupyter": {
     "outputs_hidden": false
    }
   },
   "outputs": [],
   "source": [
    "ar_livre_min, ar_livre_medio, ar_livre_max, ar_livre_var = mf.estatistica(ar_livre, 'mGal')"
   ]
  },
  {
   "cell_type": "code",
   "execution_count": null,
   "metadata": {
    "collapsed": false,
    "jupyter": {
     "outputs_hidden": false
    }
   },
   "outputs": [],
   "source": [
    "mf.plota_mapa(m, x, y, ar_livre, area, 'mGal', 'Anomalia Ar-livre - calculada', 'RdBu_r',\n",
    "              (18, 12), 2., perfis, estados=True, escala=True, eixos=True)"
   ]
  },
  {
   "cell_type": "code",
   "execution_count": null,
   "metadata": {
    "collapsed": false,
    "jupyter": {
     "outputs_hidden": false
    }
   },
   "outputs": [],
   "source": [
    "bouguer_min, bouguer_medio, bouguer_max, bouguer_var = mf.estatistica(bouguer, 'mGal')"
   ]
  },
  {
   "cell_type": "code",
   "execution_count": null,
   "metadata": {
    "collapsed": false,
    "jupyter": {
     "outputs_hidden": false
    }
   },
   "outputs": [],
   "source": [
    "mf.plota_mapa(m, x, y, bouguer, area, 'mGal', 'Anomalia Bouguer (simples) - calculada', 'RdBu_r',\n",
    "              (18, 12), 2., perfis, estados=True, escala=True, eixos=True)"
   ]
  },
  {
   "cell_type": "code",
   "execution_count": null,
   "metadata": {
    "collapsed": false,
    "jupyter": {
     "outputs_hidden": false
    }
   },
   "outputs": [],
   "source": [
    "moho_ah_min, moho_ah_media, moho_ah_max, moho_ah_var = mf.estatistica(moho_ah, 'm')"
   ]
  },
  {
   "cell_type": "code",
   "execution_count": null,
   "metadata": {
    "collapsed": false,
    "jupyter": {
     "outputs_hidden": false
    }
   },
   "outputs": [],
   "source": [
    "mf.plota_mapa(m, x, y, moho_ah, area, 'm', 'Moho calculada (Airy-Heiskanen)', 'terrain',\n",
    "              (18, 12), 2., perfis, estados=True, escala=True, eixos=True)"
   ]
  },
  {
   "cell_type": "code",
   "execution_count": null,
   "metadata": {
    "collapsed": false,
    "jupyter": {
     "outputs_hidden": false
    }
   },
   "outputs": [],
   "source": [
    "an_isostatica_min, an_isostatica_media, an_isostatica_max, an_isostatica_var = mf.estatistica(an_isostatica, 'm')"
   ]
  },
  {
   "cell_type": "code",
   "execution_count": null,
   "metadata": {
    "collapsed": false,
    "jupyter": {
     "outputs_hidden": false
    }
   },
   "outputs": [],
   "source": [
    "mf.plota_mapa(m, x, y, an_isostatica, area, 'm', 'Anomalia isostatica (Airy-Heiskanen + aproximacao plato Bouguer)', 'RdBu_r',\n",
    "              (18, 12), 2., perfis, estados=True, escala=True, eixos=True)"
   ]
  },
  {
   "cell_type": "code",
   "execution_count": null,
   "metadata": {
    "collapsed": false,
    "jupyter": {
     "outputs_hidden": false
    }
   },
   "outputs": [],
   "source": [
    "fig, axes = plt.subplots(2, 1, sharex=True, figsize=(14, 6))\n",
    "ax1, ax2 = axes\n",
    "d = perfil_topografia1[2]*0.001\n",
    "ax2.fill_between([d.min(), d.max()], [0, 0], -6000, color='#2780E3')\n",
    "ax2.fill_between([d.min(), d.max()], -6000, -45000, color='#31a354')\n",
    "ax2.fill_between(d, perfil_topografia1[3], perfil_moho_ah1[3], color='#333333')\n",
    "ax2.set_ylabel('Topografia (m)')\n",
    "ax2.set_xlabel('Distancia (km)')\n",
    "ax2.set_ylim(-45000., 5000.)\n",
    "\n",
    "ax1.set_title('Perfil 1 - mais ao sul', fontsize=16)\n",
    "ax1.set_ylabel('Disturbio e Anomalia Bouguer (mGal)')\n",
    "ax1.plot(d, perfil_bouguer1[3], '-', label='Bouguer')\n",
    "ax1.plot(d, perfil_disturbio1[3], '-', label='Disturbio')\n",
    "ax1.plot(d, perfil_an_isostatica1[3], '-', label='An. isostatica')\n",
    "ax1.hlines(0, d.min(), d.max(), linestyles='--', color='#333333')\n",
    "ax1.legend(loc='center right')\n",
    "ax1.set_xlim(d.min(), d.max())\n",
    "plt.tight_layout(h_pad=0, w_pad=0, pad=0)\n",
    "plt.show()"
   ]
  },
  {
   "cell_type": "code",
   "execution_count": null,
   "metadata": {
    "collapsed": false,
    "jupyter": {
     "outputs_hidden": false
    }
   },
   "outputs": [],
   "source": [
    "fig, axes = plt.subplots(2, 1, sharex=True, figsize=(14, 6))\n",
    "ax1, ax2 = axes\n",
    "d = perfil_topografia2[2]*0.001\n",
    "ax2.fill_between([d.min(), d.max()], [0, 0], -6000, color='#2780E3')\n",
    "ax2.fill_between([d.min(), d.max()], -6000, -45000, color='#31a354')\n",
    "ax2.fill_between(d, perfil_topografia2[3], perfil_moho_ah2[3], color='#333333')\n",
    "ax2.set_ylabel('Topografia (m)')\n",
    "ax2.set_xlabel('Distancia (km)')\n",
    "ax2.set_ylim(-45000., 5000.)\n",
    "\n",
    "ax1.set_title('Perfil 2', fontsize=16)\n",
    "ax1.set_ylabel('Disturbio e Anomalia Bouguer (mGal)')\n",
    "ax1.plot(d, perfil_bouguer2[3], '-', label='Bouguer')\n",
    "ax1.plot(d, perfil_disturbio2[3], '-', label='Disturbio')\n",
    "ax1.plot(d, perfil_an_isostatica2[3], '-', label='An. isostatica')\n",
    "ax1.hlines(0, d.min(), d.max(), linestyles='--', color='#333333')\n",
    "ax1.legend(loc='center right')\n",
    "ax1.set_xlim(d.min(), d.max())\n",
    "plt.tight_layout(h_pad=0, w_pad=0, pad=0)\n",
    "plt.show()"
   ]
  },
  {
   "cell_type": "code",
   "execution_count": null,
   "metadata": {
    "collapsed": false,
    "jupyter": {
     "outputs_hidden": false
    }
   },
   "outputs": [],
   "source": [
    "fig, axes = plt.subplots(2, 1, sharex=True, figsize=(14, 6))\n",
    "ax1, ax2 = axes\n",
    "d = perfil_topografia3[2]*0.001\n",
    "ax2.fill_between([d.min(), d.max()], [0, 0], -6000, color='#2780E3')\n",
    "ax2.fill_between([d.min(), d.max()], -6000, -45000, color='#31a354')\n",
    "ax2.fill_between(d, perfil_topografia3[3], perfil_moho_ah3[3], color='#333333')\n",
    "ax2.set_ylabel('Topografia (m)')\n",
    "ax2.set_xlabel('Distancia (km)')\n",
    "ax2.set_ylim(-45000., 5000.)\n",
    "\n",
    "ax1.set_title('Perfil 3', fontsize=16)\n",
    "ax1.set_ylabel('Disturbio e Anomalia Bouguer (mGal)')\n",
    "ax1.plot(d, perfil_bouguer3[3], '-', label='Bouguer')\n",
    "ax1.plot(d, perfil_disturbio3[3], '-', label='Disturbio')\n",
    "ax1.plot(d, perfil_an_isostatica3[3], '-', label='An. isostatica')\n",
    "ax1.hlines(0, d.min(), d.max(), linestyles='--', color='#333333')\n",
    "ax1.legend(loc='center right')\n",
    "ax1.set_xlim(d.min(), d.max())\n",
    "plt.tight_layout(h_pad=0, w_pad=0, pad=0)\n",
    "plt.show()"
   ]
  },
  {
   "cell_type": "code",
   "execution_count": null,
   "metadata": {
    "collapsed": false,
    "jupyter": {
     "outputs_hidden": false
    }
   },
   "outputs": [],
   "source": [
    "fig, axes = plt.subplots(2, 1, sharex=True, figsize=(14, 6))\n",
    "ax1, ax2 = axes\n",
    "d = perfil_topografia4[2]*0.001\n",
    "ax2.fill_between([d.min(), d.max()], [0, 0], -6000, color='#2780E3')\n",
    "ax2.fill_between([d.min(), d.max()], -6000, -45000, color='#31a354')\n",
    "ax2.fill_between(d, perfil_topografia4[3], perfil_moho_ah4[3], color='#333333')\n",
    "ax1.hlines(0, d.min(), d.max(), linestyles='--', color='#333333')\n",
    "ax2.set_ylabel('Topografia (m)')\n",
    "ax2.set_xlabel('Distancia (km)')\n",
    "ax2.set_ylim(-45000., 5000.)\n",
    "\n",
    "ax1.set_title('Perfil 4 - mais ao norte', fontsize=16)\n",
    "ax1.set_ylabel('Disturbio e Anomalia Bouguer (mGal)')\n",
    "ax1.plot(d, perfil_bouguer4[3], '-', label='Bouguer')\n",
    "ax1.plot(d, perfil_disturbio4[3], '-', label='Disturbio')\n",
    "ax1.plot(d, perfil_an_isostatica4[3], '-', label='An. isostatica')\n",
    "ax1.hlines(0, d.min(), d.max(), linestyles='--', color='#333333')\n",
    "ax1.legend(loc='center right')\n",
    "ax1.set_xlim(d.min(), d.max())\n",
    "plt.tight_layout(h_pad=0, w_pad=0, pad=0)\n",
    "plt.show()"
   ]
  },
  {
   "cell_type": "code",
   "execution_count": null,
   "metadata": {},
   "outputs": [],
   "source": [
    "diferenca1 = perfil_an_isostatica1[3] - perfil_disturbio1[3]\n",
    "diferenca2 = perfil_an_isostatica2[3] - perfil_disturbio2[3]\n",
    "diferenca3 = perfil_an_isostatica3[3] - perfil_disturbio3[3]\n",
    "diferenca4 = perfil_an_isostatica4[3] - perfil_disturbio4[3]"
   ]
  },
  {
   "cell_type": "code",
   "execution_count": null,
   "metadata": {
    "collapsed": false,
    "jupyter": {
     "outputs_hidden": false
    }
   },
   "outputs": [],
   "source": [
    "plt.figure(figsize=(10, 4))\n",
    "plt.ylabel('Anomalia isostatica - Disturbio')\n",
    "plt.plot(d, diferenca1, '-', label='Perfil 1')\n",
    "plt.plot(d, diferenca2, '-', label='Perfil 2')\n",
    "plt.plot(d, diferenca3, '-', label='Perfil 3')\n",
    "plt.plot(d, diferenca4, '-', label='Perfil 4')\n",
    "plt.hlines(0.0, d.min(), d.max(), linestyles='--', color='k')\n",
    "plt.legend(loc='best')\n",
    "plt.xlim(d.min(), d.max())\n",
    "plt.tight_layout(h_pad=0, w_pad=0, pad=0)\n",
    "plt.show()"
   ]
  },
  {
   "cell_type": "markdown",
   "metadata": {},
   "source": [
    "Todos os perfis mostrados acima começam no continente e terminam no oceano. Os perfis 1, 2, 3 e 4 estão dispostos, respectivamente, de sul para norte."
   ]
  },
  {
   "cell_type": "code",
   "execution_count": null,
   "metadata": {},
   "outputs": [],
   "source": []
  }
 ],
 "metadata": {
  "kernelspec": {
   "display_name": "Python 3 (ipykernel)",
   "language": "python",
   "name": "python3"
  },
  "language_info": {
   "codemirror_mode": {
    "name": "ipython",
    "version": 3
   },
   "file_extension": ".py",
   "mimetype": "text/x-python",
   "name": "python",
   "nbconvert_exporter": "python",
   "pygments_lexer": "ipython3",
   "version": "3.11.8"
  }
 },
 "nbformat": 4,
 "nbformat_minor": 4
}
