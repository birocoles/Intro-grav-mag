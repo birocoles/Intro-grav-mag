{
 "cells": [
  {
   "cell_type": "markdown",
   "metadata": {},
   "source": [
    "# Simulate a geological source"
   ]
  },
  {
   "cell_type": "markdown",
   "metadata": {},
   "source": [
    "### Things we have to import"
   ]
  },
  {
   "cell_type": "code",
   "execution_count": 1,
   "metadata": {},
   "outputs": [],
   "source": [
    "import numpy as np"
   ]
  },
  {
   "cell_type": "code",
   "execution_count": 2,
   "metadata": {},
   "outputs": [],
   "source": [
    "import matplotlib.pyplot as plt"
   ]
  },
  {
   "cell_type": "code",
   "execution_count": 3,
   "metadata": {
    "tags": []
   },
   "outputs": [],
   "source": [
    "from mpl_toolkits.axes_grid1.axes_divider import make_axes_locatable"
   ]
  },
  {
   "cell_type": "code",
   "execution_count": 4,
   "metadata": {},
   "outputs": [],
   "source": [
    "import time"
   ]
  },
  {
   "cell_type": "code",
   "execution_count": 5,
   "metadata": {},
   "outputs": [],
   "source": [
    "import pickle"
   ]
  },
  {
   "cell_type": "code",
   "execution_count": 6,
   "metadata": {},
   "outputs": [],
   "source": [
    "from gravmag import data_structures, utils, aux_vedo\n",
    "from gravmag.models import rectangular_prism as rp"
   ]
  },
  {
   "cell_type": "code",
   "execution_count": 7,
   "metadata": {
    "tags": []
   },
   "outputs": [],
   "source": [
    "from gravmag import plot_functions as plf"
   ]
  },
  {
   "cell_type": "code",
   "execution_count": 8,
   "metadata": {
    "tags": []
   },
   "outputs": [],
   "source": [
    "import vedo"
   ]
  },
  {
   "cell_type": "code",
   "execution_count": 9,
   "metadata": {
    "tags": []
   },
   "outputs": [],
   "source": [
    "# set the backend for vedo\n",
    "vedo.settings.default_backend= 'vtk'\n",
    "#vedo.settings.default_backend= '2d'"
   ]
  },
  {
   "cell_type": "code",
   "execution_count": 10,
   "metadata": {
    "tags": []
   },
   "outputs": [],
   "source": [
    "from PIL import Image"
   ]
  },
  {
   "cell_type": "markdown",
   "metadata": {},
   "source": [
    "### Create the model"
   ]
  },
  {
   "cell_type": "code",
   "execution_count": 11,
   "metadata": {
    "tags": []
   },
   "outputs": [],
   "source": [
    "# Set the model area\n",
    "# minimum x, maximum x, minimum y and maximum y\n",
    "model_area = [-7100, 6900, -5800, 8200]"
   ]
  },
  {
   "cell_type": "code",
   "execution_count": 12,
   "metadata": {
    "tags": []
   },
   "outputs": [],
   "source": [
    "# dictionary to store the model\n",
    "model = dict()"
   ]
  },
  {
   "cell_type": "markdown",
   "metadata": {},
   "source": [
    "#### Main model"
   ]
  },
  {
   "cell_type": "code",
   "execution_count": 13,
   "metadata": {
    "tags": []
   },
   "outputs": [],
   "source": [
    "# Create a model formed by a five prisms\n",
    "prisms_main = np.array([[-500, 500, 0, 2000, 10, 1010],\n",
    "                        [-1500, -500, 1000, 3000, 100, 1200],\n",
    "                        [1000, 3000, 2000, 2500, 90, 1500],\n",
    "                        [-4000, -1000, -3000, 1000, 100, 1400],\n",
    "                        [-3000, 1000, -2000, 4000, 1000, 1500]])\n",
    "\n",
    "# Densities of the prisms\n",
    "densities_main = np.array([1500, -1800, 3000, 1200, -900]) # 2000 kg/m³ = 2 g/cm³"
   ]
  },
  {
   "cell_type": "markdown",
   "metadata": {},
   "source": [
    "#### Geological noise"
   ]
  },
  {
   "cell_type": "code",
   "execution_count": 14,
   "metadata": {},
   "outputs": [],
   "source": [
    "# center of Ns sources randomly distributed in the simulated area\n",
    "Ngn = 300\n",
    "\n",
    "xgn = model_area[0] + (model_area[1] - model_area[0])*np.random.rand(Ngn)\n",
    "ygn = model_area[2] + (model_area[3] - model_area[2])*np.random.rand(Ngn)\n",
    "zgn_top = 100.*np.random.rand(Ngn)\n",
    "\n",
    "# sizes \n",
    "Lgn = 100. + 200*np.random.rand(Ngn)\n",
    "\n",
    "# densities\n",
    "densities_gn = 2000. + 1000.*np.random.rand(Ngn)\n",
    "\n",
    "# create the sources\n",
    "prisms_gn = np.zeros((Ngn, 6))\n",
    "prisms_gn[:,0] = xgn - 0.5*Lgn\n",
    "prisms_gn[:,1] = xgn + 0.5*Lgn\n",
    "prisms_gn[:,2] = ygn - 0.5*Lgn\n",
    "prisms_gn[:,3] = ygn + 0.5*Lgn\n",
    "prisms_gn[:,4] = 0.\n",
    "prisms_gn[:,5] = zgn_top + Lgn"
   ]
  },
  {
   "cell_type": "code",
   "execution_count": 15,
   "metadata": {},
   "outputs": [],
   "source": [
    "prisms = np.vstack([prisms_main, prisms_gn])\n",
    "densities = np.hstack([densities_main, densities_gn])"
   ]
  },
  {
   "cell_type": "code",
   "execution_count": 16,
   "metadata": {},
   "outputs": [],
   "source": [
    "prisms_dict = {\n",
    "    'x1' : prisms[:,0],\n",
    "    'x2' : prisms[:,1],\n",
    "    'y1' : prisms[:,2],\n",
    "    'y2' : prisms[:,3],\n",
    "    'z1' : prisms[:,4],\n",
    "    'z2' : prisms[:,5]\n",
    "}"
   ]
  },
  {
   "cell_type": "code",
   "execution_count": 17,
   "metadata": {},
   "outputs": [],
   "source": [
    "prisms_long_wavelength_dict = {\n",
    "    'x1' : prisms_main[4:,0],\n",
    "    'x2' : prisms_main[4:,1],\n",
    "    'y1' : prisms_main[4:,2],\n",
    "    'y2' : prisms_main[4:,3],\n",
    "    'z1' : prisms_main[4:,4],\n",
    "    'z2' : prisms_main[4:,5]\n",
    "}\n",
    "\n",
    "prisms_mid_wavelength_dict = {\n",
    "    'x1' : prisms_main[:4,0],\n",
    "    'x2' : prisms_main[:4,1],\n",
    "    'y1' : prisms_main[:4,2],\n",
    "    'y2' : prisms_main[:4,3],\n",
    "    'z1' : prisms_main[:4,4],\n",
    "    'z2' : prisms_main[:4,5]\n",
    "}"
   ]
  },
  {
   "cell_type": "code",
   "execution_count": 18,
   "metadata": {},
   "outputs": [],
   "source": [
    "model['prisms'] = prisms_dict\n",
    "model['densities'] = densities"
   ]
  },
  {
   "cell_type": "code",
   "execution_count": 19,
   "metadata": {},
   "outputs": [],
   "source": [
    "# save the model\n",
    "file_name = 'synthetic_bodies.pickle'\n",
    "with open('aula_5d/'+file_name, 'wb') as f:\n",
    "    pickle.dump(model, f)"
   ]
  },
  {
   "cell_type": "markdown",
   "metadata": {},
   "source": [
    "#### 2D plot (plan view)"
   ]
  },
  {
   "cell_type": "code",
   "execution_count": 20,
   "metadata": {
    "tags": []
   },
   "outputs": [
    {
     "data": {
      "image/png": "[encoded data removed]",
      "text/plain": [
       "<Figure size 700x600 with 1 Axes>"
      ]
     },
     "metadata": {},
     "output_type": "display_data"
    }
   ],
   "source": [
    "fig, ax = plt.subplots(figsize=(7,6))\n",
    "\n",
    "ax.axis('scaled')\n",
    "\n",
    "plf.model_boundaries(\n",
    "    ax,\n",
    "    model=prisms_long_wavelength_dict,\n",
    "    color='k',\n",
    "    style='-',\n",
    "    width='3'\n",
    ")\n",
    "\n",
    "plf.model_boundaries(\n",
    "    ax,\n",
    "    model=prisms_mid_wavelength_dict,\n",
    "    color='k',\n",
    "    style='--',\n",
    "    width='2'\n",
    ")\n",
    "\n",
    "ax.set_ylim(0.001*model_area[0], 0.001*model_area[1])\n",
    "ax.set_xlim(0.001*model_area[2], 0.001*model_area[3])\n",
    "ax.set_xticks(np.linspace(-4, 6, 11))\n",
    "ax.set_yticks(np.linspace(-5, 5, 11))\n",
    "ax.tick_params(axis='both', labelsize=14)\n",
    "ax.annotate(text='A', xy=(0.15, 0.05), fontsize=14)\n",
    "ax.annotate(text='B', xy=(2.55, -0.95), fontsize=14)\n",
    "ax.annotate(text='C', xy=(1.55, 2.50), fontsize=14)\n",
    "ax.annotate(text='D', xy=(-2.80, -3.80), fontsize=14)\n",
    "ax.annotate(text='E', xy=(-1.80, 0.50), fontsize=14)\n",
    "ax.set_xlabel('y (km)', fontsize=16)\n",
    "ax.set_ylabel('x (km)', fontsize=16)\n",
    "ax.grid()\n",
    "plt.tight_layout()\n",
    "\n",
    "plt.show()"
   ]
  },
  {
   "cell_type": "markdown",
   "metadata": {},
   "source": [
    "#### 3D Plot"
   ]
  },
  {
   "cell_type": "code",
   "execution_count": 21,
   "metadata": {
    "tags": []
   },
   "outputs": [],
   "source": [
    "# create a Vedo model of prisms with colors defined by the density\n",
    "model_vedo = aux_vedo.gravmag2vedo_prisms(\n",
    "    gravmag_prisms=prisms_dict,\n",
    "    scalar_props=densities,\n",
    "    cmap='jet',\n",
    "    vmin=np.min(densities),\n",
    "    vmax=np.max(densities)\n",
    ")"
   ]
  },
  {
   "cell_type": "code",
   "execution_count": 22,
   "metadata": {
    "tags": []
   },
   "outputs": [
    {
     "data": {
      "text/html": [
       "<table>\n",
       "<tr>\n",
       "<td>\n",
       "<img src='data:image/png;base64,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'></img>\n",
       "</td>\n",
       "<td style='text-align: center; vertical-align: center;'><br/>\n",
       "<b> Mesh: &nbsp&nbsp</b><b><a href=\"https://vedo.embl.es/docs/vedo/mesh.html#Mesh\" target=\"_blank\">vedo.mesh.Mesh</a></b>\n",
       "<table>\n",
       "<tr><td><b> bounds </b> <br/> (x/y/z) </td><td>-7232 ... 6949<br/>-5905 ... 8244<br/>0 ... 1500</td></tr>\n",
       "<tr><td><b> center of mass </b></td><td>(-257, 1.30e+3, 135)</td></tr>\n",
       "<tr><td><b> average size </b></td><td>5354.164</td></tr>\n",
       "<tr><td><b> nr. points&nbsp/&nbspfaces </b></td><td>7320&nbsp/&nbsp1830</td></tr>\n",
       "\n",
       "<tr><td><b> cell data array </b></td><td>Scalars</td></tr>\n",
       "</table>\n",
       "</table>"
      ],
      "text/plain": [
       "<vedo.mesh.Mesh at 0x7610b8169ed0>"
      ]
     },
     "execution_count": 22,
     "metadata": {},
     "output_type": "execute_result"
    }
   ],
   "source": [
    "# add a colorbar to the prisms\n",
    "model_vedo.add_scalarbar(\n",
    "    title=\"density (kg/m³)\", \n",
    "    pos=(0.8,0.01),\n",
    "    title_yoffset=15,\n",
    "    font_size=14,\n",
    "    nlabels=10,\n",
    "    horizontal=False,\n",
    "    label_format=':9.2f'\n",
    ")"
   ]
  },
  {
   "cell_type": "code",
   "execution_count": 23,
   "metadata": {
    "tags": []
   },
   "outputs": [
    {
     "data": {
      "text/plain": [
       "<vedo.plotter.Plotter at 0x7610ba7fce90>"
      ]
     },
     "execution_count": 23,
     "metadata": {},
     "output_type": "execute_result"
    }
   ],
   "source": [
    "pl = vedo.Plotter()\n",
    "\n",
    "pl += model_vedo\n",
    "\n",
    "pl += aux_vedo.custom_axes(model_area+[-500, 1000])\n",
    "\n",
    "# set a model view\n",
    "pl.show(\n",
    "    axes=0, \n",
    "    zoom=1, \n",
    "    interactive=True\n",
    ")\n",
    "\n",
    "pl.close()"
   ]
  },
  {
   "cell_type": "code",
   "execution_count": null,
   "metadata": {},
   "outputs": [],
   "source": []
  }
 ],
 "metadata": {
  "kernelspec": {
   "display_name": "Python 3 (ipykernel)",
   "language": "python",
   "name": "python3"
  },
  "language_info": {
   "codemirror_mode": {
    "name": "ipython",
    "version": 3
   },
   "file_extension": ".py",
   "mimetype": "text/x-python",
   "name": "python",
   "nbconvert_exporter": "python",
   "pygments_lexer": "ipython3",
   "version": "3.11.8"
  }
 },
 "nbformat": 4,
 "nbformat_minor": 4
}
