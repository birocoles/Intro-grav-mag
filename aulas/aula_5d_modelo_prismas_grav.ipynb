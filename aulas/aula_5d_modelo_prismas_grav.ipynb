{
 "cells": [
  {
   "cell_type": "markdown",
   "metadata": {},
   "source": [
    "# Simulate a geological source"
   ]
  },
  {
   "cell_type": "markdown",
   "metadata": {},
   "source": [
    "### Things we have to import"
   ]
  },
  {
   "cell_type": "code",
   "execution_count": 1,
   "metadata": {},
   "outputs": [],
   "source": [
    "import numpy as np"
   ]
  },
  {
   "cell_type": "code",
   "execution_count": 2,
   "metadata": {},
   "outputs": [],
   "source": [
    "import matplotlib.pyplot as plt"
   ]
  },
  {
   "cell_type": "code",
   "execution_count": 3,
   "metadata": {
    "tags": []
   },
   "outputs": [],
   "source": [
    "from mpl_toolkits.axes_grid1.axes_divider import make_axes_locatable"
   ]
  },
  {
   "cell_type": "code",
   "execution_count": 4,
   "metadata": {},
   "outputs": [],
   "source": [
    "import time"
   ]
  },
  {
   "cell_type": "code",
   "execution_count": 5,
   "metadata": {},
   "outputs": [],
   "source": [
    "import pickle"
   ]
  },
  {
   "cell_type": "code",
   "execution_count": 6,
   "metadata": {},
   "outputs": [],
   "source": [
    "from gravmag import data_structures, utils, aux_vedo\n",
    "from gravmag.models import rectangular_prism as rp"
   ]
  },
  {
   "cell_type": "code",
   "execution_count": 7,
   "metadata": {
    "tags": []
   },
   "outputs": [],
   "source": [
    "from gravmag import plot_functions as plf"
   ]
  },
  {
   "cell_type": "code",
   "execution_count": 8,
   "metadata": {
    "tags": []
   },
   "outputs": [],
   "source": [
    "import vedo"
   ]
  },
  {
   "cell_type": "code",
   "execution_count": 9,
   "metadata": {
    "tags": []
   },
   "outputs": [],
   "source": [
    "# set the backend for vedo\n",
    "vedo.settings.default_backend= 'vtk'\n",
    "#vedo.settings.default_backend= '2d'"
   ]
  },
  {
   "cell_type": "code",
   "execution_count": 10,
   "metadata": {
    "tags": []
   },
   "outputs": [],
   "source": [
    "from PIL import Image"
   ]
  },
  {
   "cell_type": "markdown",
   "metadata": {},
   "source": [
    "### Create the model"
   ]
  },
  {
   "cell_type": "code",
   "execution_count": 11,
   "metadata": {
    "tags": []
   },
   "outputs": [],
   "source": [
    "# Set the model area\n",
    "# minimum x, maximum x, minimum y and maximum y\n",
    "model_area = [-5100, 4900, -3800, 6200]"
   ]
  },
  {
   "cell_type": "code",
   "execution_count": 12,
   "metadata": {
    "tags": []
   },
   "outputs": [],
   "source": [
    "# dictionary to store the model\n",
    "model = dict()"
   ]
  },
  {
   "cell_type": "markdown",
   "metadata": {},
   "source": [
    "#### Main model"
   ]
  },
  {
   "cell_type": "code",
   "execution_count": 24,
   "metadata": {
    "tags": []
   },
   "outputs": [],
   "source": [
    "# Create a model formed by a five prisms\n",
    "prisms_main = np.array([[-500, 500, 0, 2000, 10, 1010],\n",
    "                        [-1500, -500, 1000, 3000, 100, 1200],\n",
    "                        [1000, 3000, 2000, 2500, 90, 1500],\n",
    "                        [-4000, -1000, -3000, 1000, 100, 1400],\n",
    "                        [-3000, 1000, -2000, 4000, 1000, 1500]])\n",
    "\n",
    "# Densities of the prisms\n",
    "densities_main = np.array([1500, -1800, 3000, 1200, -900]) # 2000 kg/m³ = 2 g/cm³"
   ]
  },
  {
   "cell_type": "markdown",
   "metadata": {},
   "source": [
    "#### Geological noise"
   ]
  },
  {
   "cell_type": "code",
   "execution_count": 25,
   "metadata": {},
   "outputs": [],
   "source": [
    "# center of Ns sources randomly distributed in the simulated area\n",
    "Ngn = 300\n",
    "\n",
    "xgn = model_area[0] + (model_area[1] - model_area[0])*np.random.rand(Ngn)\n",
    "ygn = model_area[2] + (model_area[3] - model_area[2])*np.random.rand(Ngn)\n",
    "zgn_top = 100.*np.random.rand(Ngn)\n",
    "\n",
    "# sizes \n",
    "Lgn = 100. + 200*np.random.rand(Ngn)\n",
    "\n",
    "# densities\n",
    "densities_gn = 2000. + 1000.*np.random.rand(Ngn)\n",
    "\n",
    "# create the sources\n",
    "prisms_gn = np.zeros((Ngn, 6))\n",
    "prisms_gn[:,0] = xgn - 0.5*Lgn\n",
    "prisms_gn[:,1] = xgn + 0.5*Lgn\n",
    "prisms_gn[:,2] = ygn - 0.5*Lgn\n",
    "prisms_gn[:,3] = ygn + 0.5*Lgn\n",
    "prisms_gn[:,4] = 0.\n",
    "prisms_gn[:,5] = zgn_top + Lgn"
   ]
  },
  {
   "cell_type": "code",
   "execution_count": 26,
   "metadata": {},
   "outputs": [],
   "source": [
    "prisms = np.vstack([prisms_main, prisms_gn])\n",
    "densities = np.hstack([densities_main, densities_gn])"
   ]
  },
  {
   "cell_type": "code",
   "execution_count": 27,
   "metadata": {},
   "outputs": [],
   "source": [
    "prisms_dict = {\n",
    "    'x1' : prisms[:,0],\n",
    "    'x2' : prisms[:,1],\n",
    "    'y1' : prisms[:,2],\n",
    "    'y2' : prisms[:,3],\n",
    "    'z1' : prisms[:,4],\n",
    "    'z2' : prisms[:,5]\n",
    "}"
   ]
  },
  {
   "cell_type": "code",
   "execution_count": 28,
   "metadata": {},
   "outputs": [],
   "source": [
    "prisms_long_wavelength_dict = {\n",
    "    'x1' : prisms_main[4:,0],\n",
    "    'x2' : prisms_main[4:,1],\n",
    "    'y1' : prisms_main[4:,2],\n",
    "    'y2' : prisms_main[4:,3],\n",
    "    'z1' : prisms_main[4:,4],\n",
    "    'z2' : prisms_main[4:,5]\n",
    "}\n",
    "\n",
    "prisms_mid_wavelength_dict = {\n",
    "    'x1' : prisms_main[:4,0],\n",
    "    'x2' : prisms_main[:4,1],\n",
    "    'y1' : prisms_main[:4,2],\n",
    "    'y2' : prisms_main[:4,3],\n",
    "    'z1' : prisms_main[:4,4],\n",
    "    'z2' : prisms_main[:4,5]\n",
    "}"
   ]
  },
  {
   "cell_type": "code",
   "execution_count": 29,
   "metadata": {},
   "outputs": [],
   "source": [
    "model['prisms'] = prisms_dict\n",
    "model['densities'] = densities"
   ]
  },
  {
   "cell_type": "code",
   "execution_count": 30,
   "metadata": {},
   "outputs": [],
   "source": [
    "# save the model\n",
    "file_name = 'synthetic_bodies.pickle'\n",
    "with open('aula_5d/'+file_name, 'wb') as f:\n",
    "    pickle.dump(model, f)"
   ]
  },
  {
   "cell_type": "markdown",
   "metadata": {},
   "source": [
    "#### 2D plot (plan view)"
   ]
  },
  {
   "cell_type": "code",
   "execution_count": 31,
   "metadata": {
    "tags": []
   },
   "outputs": [
    {
     "data": {
      "image/png": "[encoded data removed]",
      "text/plain": [
       "<Figure size 700x600 with 1 Axes>"
      ]
     },
     "metadata": {},
     "output_type": "display_data"
    }
   ],
   "source": [
    "fig, ax = plt.subplots(figsize=(7,6))\n",
    "\n",
    "ax.axis('scaled')\n",
    "\n",
    "plf.model_boundaries(\n",
    "    ax,\n",
    "    model=prisms_long_wavelength_dict,\n",
    "    color='k',\n",
    "    style='-',\n",
    "    width='3'\n",
    ")\n",
    "\n",
    "plf.model_boundaries(\n",
    "    ax,\n",
    "    model=prisms_mid_wavelength_dict,\n",
    "    color='k',\n",
    "    style='--',\n",
    "    width='2'\n",
    ")\n",
    "\n",
    "ax.set_ylim(0.001*model_area[0], 0.001*model_area[1])\n",
    "ax.set_xlim(0.001*model_area[2], 0.001*model_area[3])\n",
    "ax.set_xticks(np.linspace(-4, 6, 11))\n",
    "ax.set_yticks(np.linspace(-5, 5, 11))\n",
    "ax.tick_params(axis='both', labelsize=14)\n",
    "ax.annotate(text='A', xy=(0.15, 0.05), fontsize=14)\n",
    "ax.annotate(text='B', xy=(2.55, -0.95), fontsize=14)\n",
    "ax.annotate(text='C', xy=(1.55, 2.50), fontsize=14)\n",
    "ax.annotate(text='D', xy=(-2.80, -3.80), fontsize=14)\n",
    "ax.annotate(text='E', xy=(-1.80, 0.50), fontsize=14)\n",
    "ax.set_xlabel('y (km)', fontsize=16)\n",
    "ax.set_ylabel('x (km)', fontsize=16)\n",
    "ax.grid()\n",
    "plt.tight_layout()\n",
    "\n",
    "plt.show()"
   ]
  },
  {
   "cell_type": "markdown",
   "metadata": {},
   "source": [
    "#### 3D Plot"
   ]
  },
  {
   "cell_type": "code",
   "execution_count": 32,
   "metadata": {
    "tags": []
   },
   "outputs": [],
   "source": [
    "# create a Vedo model of prisms with colors defined by the density\n",
    "model_vedo = aux_vedo.gravmag2vedo_prisms(\n",
    "    gravmag_prisms=prisms_dict,\n",
    "    scalar_props=densities,\n",
    "    cmap='jet',\n",
    "    vmin=np.min(densities),\n",
    "    vmax=np.max(densities)\n",
    ")"
   ]
  },
  {
   "cell_type": "code",
   "execution_count": 33,
   "metadata": {
    "tags": []
   },
   "outputs": [
    {
     "data": {
      "text/html": [
       "<table>\n",
       "<tr>\n",
       "<td>\n",
       "<img src='data:image/png;base64,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'></img>\n",
       "</td>\n",
       "<td style='text-align: center; vertical-align: center;'><br/>\n",
       "<b> Mesh: &nbsp&nbsp</b><b><a href=\"https://vedo.embl.es/docs/vedo/mesh.html#Mesh\" target=\"_blank\">vedo.mesh.Mesh</a></b>\n",
       "<table>\n",
       "<tr><td><b> bounds </b> <br/> (x/y/z) </td><td>-5126 ... 4951<br/>-3881 ... 6275<br/>0 ... 1500</td></tr>\n",
       "<tr><td><b> center of mass </b></td><td>(60.8, 1.41e+3, 133)</td></tr>\n",
       "<tr><td><b> average size </b></td><td>3836.587</td></tr>\n",
       "<tr><td><b> nr. points&nbsp/&nbspfaces </b></td><td>7320&nbsp/&nbsp1830</td></tr>\n",
       "\n",
       "<tr><td><b> cell data array </b></td><td>Scalars</td></tr>\n",
       "</table>\n",
       "</table>"
      ],
      "text/plain": [
       "<vedo.mesh.Mesh at 0x76ba41349990>"
      ]
     },
     "execution_count": 33,
     "metadata": {},
     "output_type": "execute_result"
    }
   ],
   "source": [
    "# add a colorbar to the prisms\n",
    "model_vedo.add_scalarbar(\n",
    "    title=\"density (kg/m³)\", \n",
    "    pos=(0.8,0.01),\n",
    "    title_yoffset=15,\n",
    "    font_size=14,\n",
    "    nlabels=10,\n",
    "    horizontal=False,\n",
    "    label_format=':9.2f'\n",
    ")"
   ]
  },
  {
   "cell_type": "code",
   "execution_count": 34,
   "metadata": {
    "tags": []
   },
   "outputs": [
    {
     "data": {
      "text/plain": [
       "<vedo.plotter.Plotter at 0x76ba385f9c10>"
      ]
     },
     "execution_count": 34,
     "metadata": {},
     "output_type": "execute_result"
    }
   ],
   "source": [
    "pl = vedo.Plotter()\n",
    "\n",
    "pl += model_vedo\n",
    "\n",
    "pl += aux_vedo.custom_axes(model_area+[-500, 1000])\n",
    "\n",
    "# set a model view\n",
    "pl.show(\n",
    "    axes=0, \n",
    "    zoom=1, \n",
    "    interactive=True\n",
    ")\n",
    "\n",
    "pl.close()"
   ]
  },
  {
   "cell_type": "code",
   "execution_count": null,
   "metadata": {},
   "outputs": [],
   "source": []
  }
 ],
 "metadata": {
  "kernelspec": {
   "display_name": "Python 3 (ipykernel)",
   "language": "python",
   "name": "python3"
  },
  "language_info": {
   "codemirror_mode": {
    "name": "ipython",
    "version": 3
   },
   "file_extension": ".py",
   "mimetype": "text/x-python",
   "name": "python",
   "nbconvert_exporter": "python",
   "pygments_lexer": "ipython3",
   "version": "3.11.8"
  }
 },
 "nbformat": 4,
 "nbformat_minor": 4
}
