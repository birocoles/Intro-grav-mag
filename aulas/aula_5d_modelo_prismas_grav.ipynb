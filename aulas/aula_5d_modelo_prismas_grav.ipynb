{
 "cells": [
  {
   "cell_type": "markdown",
   "metadata": {},
   "source": [
    "# Simulate a geological source"
   ]
  },
  {
   "cell_type": "markdown",
   "metadata": {},
   "source": [
    "### Things we have to import"
   ]
  },
  {
   "cell_type": "code",
   "execution_count": 1,
   "metadata": {},
   "outputs": [],
   "source": [
    "import numpy as np"
   ]
  },
  {
   "cell_type": "code",
   "execution_count": 2,
   "metadata": {},
   "outputs": [],
   "source": [
    "import matplotlib.pyplot as plt"
   ]
  },
  {
   "cell_type": "code",
   "execution_count": 3,
   "metadata": {
    "tags": []
   },
   "outputs": [],
   "source": [
    "from mpl_toolkits.axes_grid1.axes_divider import make_axes_locatable"
   ]
  },
  {
   "cell_type": "code",
   "execution_count": 4,
   "metadata": {},
   "outputs": [],
   "source": [
    "import time"
   ]
  },
  {
   "cell_type": "code",
   "execution_count": 5,
   "metadata": {},
   "outputs": [],
   "source": [
    "import pickle"
   ]
  },
  {
   "cell_type": "code",
   "execution_count": 6,
   "metadata": {},
   "outputs": [],
   "source": [
    "from gravmag import data_structures, utils, aux_vedo\n",
    "from gravmag.models import rectangular_prism as rp"
   ]
  },
  {
   "cell_type": "code",
   "execution_count": 7,
   "metadata": {
    "tags": []
   },
   "outputs": [],
   "source": [
    "from gravmag import plot_functions as plf"
   ]
  },
  {
   "cell_type": "code",
   "execution_count": 8,
   "metadata": {
    "tags": []
   },
   "outputs": [],
   "source": [
    "import vedo"
   ]
  },
  {
   "cell_type": "code",
   "execution_count": 9,
   "metadata": {
    "tags": []
   },
   "outputs": [],
   "source": [
    "# set the backend for vedo\n",
    "vedo.settings.default_backend= 'vtk'\n",
    "#vedo.settings.default_backend= '2d'"
   ]
  },
  {
   "cell_type": "code",
   "execution_count": 10,
   "metadata": {
    "tags": []
   },
   "outputs": [],
   "source": [
    "from PIL import Image"
   ]
  },
  {
   "cell_type": "markdown",
   "metadata": {},
   "source": [
    "### Create the model"
   ]
  },
  {
   "cell_type": "code",
   "execution_count": 11,
   "metadata": {
    "tags": []
   },
   "outputs": [],
   "source": [
    "# Set the model area\n",
    "# minimum x, maximum x, minimum y and maximum y\n",
    "model_area = [-7100, 6900, -5800, 8200]"
   ]
  },
  {
   "cell_type": "code",
   "execution_count": 12,
   "metadata": {
    "tags": []
   },
   "outputs": [],
   "source": [
    "# dictionary to store the model\n",
    "model = dict()"
   ]
  },
  {
   "cell_type": "markdown",
   "metadata": {},
   "source": [
    "#### Main model"
   ]
  },
  {
   "cell_type": "code",
   "execution_count": 13,
   "metadata": {
    "tags": []
   },
   "outputs": [],
   "source": [
    "# Create a model formed by a five prisms\n",
    "prisms_main = np.array([[-500, 500, 0, 2000, 10, 1010],\n",
    "                        [-1500, -500, 1000, 3000, 100, 1200],\n",
    "                        [1000, 3000, 2000, 2500, 90, 1500],\n",
    "                        [-4000, -1000, -3000, 1000, 100, 1400],\n",
    "                        [-3000, 1000, -2000, 4000, 1000, 1500]])\n",
    "\n",
    "# Densities of the prisms\n",
    "densities_main = np.array([1500, -1800, 3000, 1200, -900]) # 2000 kg/m³ = 2 g/cm³"
   ]
  },
  {
   "cell_type": "markdown",
   "metadata": {},
   "source": [
    "#### Geological noise"
   ]
  },
  {
   "cell_type": "code",
   "execution_count": 14,
   "metadata": {},
   "outputs": [],
   "source": [
    "# center of Ns sources randomly distributed in the simulated area\n",
    "Ngn = 300\n",
    "\n",
    "xgn = model_area[0] + (model_area[1] - model_area[0])*np.random.rand(Ngn)\n",
    "ygn = model_area[2] + (model_area[3] - model_area[2])*np.random.rand(Ngn)\n",
    "zgn_top = 100.*np.random.rand(Ngn)\n",
    "\n",
    "# sizes \n",
    "Lgn = 100. + 200*np.random.rand(Ngn)\n",
    "\n",
    "# densities\n",
    "densities_gn = 2000. + 1000.*np.random.rand(Ngn)\n",
    "\n",
    "# create the sources\n",
    "prisms_gn = np.zeros((Ngn, 6))\n",
    "prisms_gn[:,0] = xgn - 0.5*Lgn\n",
    "prisms_gn[:,1] = xgn + 0.5*Lgn\n",
    "prisms_gn[:,2] = ygn - 0.5*Lgn\n",
    "prisms_gn[:,3] = ygn + 0.5*Lgn\n",
    "prisms_gn[:,4] = 0.\n",
    "prisms_gn[:,5] = zgn_top + Lgn"
   ]
  },
  {
   "cell_type": "code",
   "execution_count": 15,
   "metadata": {},
   "outputs": [],
   "source": [
    "prisms = np.vstack([prisms_main, prisms_gn])\n",
    "densities = np.hstack([densities_main, densities_gn])"
   ]
  },
  {
   "cell_type": "code",
   "execution_count": 16,
   "metadata": {},
   "outputs": [],
   "source": [
    "prisms_dict = {\n",
    "    'x1' : prisms[:,0],\n",
    "    'x2' : prisms[:,1],\n",
    "    'y1' : prisms[:,2],\n",
    "    'y2' : prisms[:,3],\n",
    "    'z1' : prisms[:,4],\n",
    "    'z2' : prisms[:,5]\n",
    "}"
   ]
  },
  {
   "cell_type": "code",
   "execution_count": 17,
   "metadata": {},
   "outputs": [],
   "source": [
    "prisms_long_wavelength_dict = {\n",
    "    'x1' : prisms_main[4:,0],\n",
    "    'x2' : prisms_main[4:,1],\n",
    "    'y1' : prisms_main[4:,2],\n",
    "    'y2' : prisms_main[4:,3],\n",
    "    'z1' : prisms_main[4:,4],\n",
    "    'z2' : prisms_main[4:,5]\n",
    "}\n",
    "\n",
    "prisms_mid_wavelength_dict = {\n",
    "    'x1' : prisms_main[:4,0],\n",
    "    'x2' : prisms_main[:4,1],\n",
    "    'y1' : prisms_main[:4,2],\n",
    "    'y2' : prisms_main[:4,3],\n",
    "    'z1' : prisms_main[:4,4],\n",
    "    'z2' : prisms_main[:4,5]\n",
    "}"
   ]
  },
  {
   "cell_type": "code",
   "execution_count": 18,
   "metadata": {},
   "outputs": [],
   "source": [
    "model['prisms'] = prisms_dict\n",
    "model['densities'] = densities"
   ]
  },
  {
   "cell_type": "code",
   "execution_count": 19,
   "metadata": {},
   "outputs": [],
   "source": [
    "# save the model\n",
    "file_name = 'synthetic_bodies.pickle'\n",
    "with open('aula_5d/'+file_name, 'wb') as f:\n",
    "    pickle.dump(model, f)"
   ]
  },
  {
   "cell_type": "markdown",
   "metadata": {},
   "source": [
    "#### 2D plot (plan view)"
   ]
  },
  {
   "cell_type": "code",
   "execution_count": 20,
   "metadata": {
    "tags": []
   },
   "outputs": [
    {
     "data": {
      "image/png": "[encoded data removed]",
      "text/plain": [
       "<Figure size 700x600 with 1 Axes>"
      ]
     },
     "metadata": {},
     "output_type": "display_data"
    }
   ],
   "source": [
    "fig, ax = plt.subplots(figsize=(7,6))\n",
    "\n",
    "ax.axis('scaled')\n",
    "\n",
    "plf.model_boundaries(\n",
    "    ax,\n",
    "    model=prisms_long_wavelength_dict,\n",
    "    color='k',\n",
    "    style='-',\n",
    "    width='3'\n",
    ")\n",
    "\n",
    "plf.model_boundaries(\n",
    "    ax,\n",
    "    model=prisms_mid_wavelength_dict,\n",
    "    color='k',\n",
    "    style='--',\n",
    "    width='2'\n",
    ")\n",
    "\n",
    "ax.set_ylim(0.001*model_area[0], 0.001*model_area[1])\n",
    "ax.set_xlim(0.001*model_area[2], 0.001*model_area[3])\n",
    "ax.set_xticks(np.linspace(-4, 6, 11))\n",
    "ax.set_yticks(np.linspace(-5, 5, 11))\n",
    "ax.tick_params(axis='both', labelsize=14)\n",
    "ax.annotate(text='A', xy=(0.15, 0.05), fontsize=14)\n",
    "ax.annotate(text='B', xy=(2.55, -0.95), fontsize=14)\n",
    "ax.annotate(text='C', xy=(1.55, 2.50), fontsize=14)\n",
    "ax.annotate(text='D', xy=(-2.80, -3.80), fontsize=14)\n",
    "ax.annotate(text='E', xy=(-1.80, 0.50), fontsize=14)\n",
    "ax.set_xlabel('y (km)', fontsize=16)\n",
    "ax.set_ylabel('x (km)', fontsize=16)\n",
    "ax.grid()\n",
    "plt.tight_layout()\n",
    "\n",
    "plt.show()"
   ]
  },
  {
   "cell_type": "markdown",
   "metadata": {},
   "source": [
    "#### 3D Plot"
   ]
  },
  {
   "cell_type": "code",
   "execution_count": 21,
   "metadata": {
    "tags": []
   },
   "outputs": [],
   "source": [
    "# create a Vedo model of prisms with colors defined by the density\n",
    "model_vedo = aux_vedo.gravmag2vedo_prisms(\n",
    "    gravmag_prisms=prisms_dict,\n",
    "    scalar_props=densities,\n",
    "    cmap='jet',\n",
    "    vmin=np.min(densities),\n",
    "    vmax=np.max(densities)\n",
    ")"
   ]
  },
  {
   "cell_type": "code",
   "execution_count": 22,
   "metadata": {
    "tags": []
   },
   "outputs": [
    {
     "data": {
      "text/html": [
       "<table>\n",
       "<tr>\n",
       "<td>\n",
       "<img src='data:image/png;base64,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'></img>\n",
       "</td>\n",
       "<td style='text-align: center; vertical-align: center;'><br/>\n",
       "<b> Mesh: &nbsp&nbsp</b><b><a href=\"https://vedo.embl.es/docs/vedo/mesh.html#Mesh\" target=\"_blank\">vedo.mesh.Mesh</a></b>\n",
       "<table>\n",
       "<tr><td><b> bounds </b> <br/> (x/y/z) </td><td>-7187 ... 6985<br/>-5921 ... 8201<br/>0 ... 1500</td></tr>\n",
       "<tr><td><b> center of mass </b></td><td>(-444, 1.74e+3, 137)</td></tr>\n",
       "<tr><td><b> average size </b></td><td>5291.780</td></tr>\n",
       "<tr><td><b> nr. points&nbsp/&nbspfaces </b></td><td>7320&nbsp/&nbsp1830</td></tr>\n",
       "\n",
       "<tr><td><b> cell data array </b></td><td>Scalars</td></tr>\n",
       "</table>\n",
       "</table>"
      ],
      "text/plain": [
       "<vedo.mesh.Mesh at 0x738ae8199690>"
      ]
     },
     "execution_count": 22,
     "metadata": {},
     "output_type": "execute_result"
    }
   ],
   "source": [
    "# add a colorbar to the prisms\n",
    "model_vedo.add_scalarbar(\n",
    "    title=\"density (kg/m³)\", \n",
    "    pos=(0.8,0.01),\n",
    "    title_yoffset=15,\n",
    "    font_size=14,\n",
    "    nlabels=10,\n",
    "    horizontal=False,\n",
    "    label_format=':9.2f'\n",
    ")"
   ]
  },
  {
   "cell_type": "code",
   "execution_count": 23,
   "metadata": {
    "tags": []
   },
   "outputs": [
    {
     "data": {
      "text/plain": [
       "<vedo.plotter.Plotter at 0x738aea744bd0>"
      ]
     },
     "execution_count": 23,
     "metadata": {},
     "output_type": "execute_result"
    }
   ],
   "source": [
    "pl = vedo.Plotter()\n",
    "\n",
    "pl += model_vedo\n",
    "\n",
    "pl += aux_vedo.custom_axes(model_area+[-500, 1000])\n",
    "\n",
    "# set a model view\n",
    "pl.show(\n",
    "    axes=0, \n",
    "    zoom=1, \n",
    "    interactive=True\n",
    ")\n",
    "\n",
    "pl.close()"
   ]
  },
  {
   "cell_type": "code",
   "execution_count": null,
   "metadata": {},
   "outputs": [],
   "source": []
  }
 ],
 "metadata": {
  "kernelspec": {
   "display_name": "Python 3 (ipykernel)",
   "language": "python",
   "name": "python3"
  },
  "language_info": {
   "codemirror_mode": {
    "name": "ipython",
    "version": 3
   },
   "file_extension": ".py",
   "mimetype": "text/x-python",
   "name": "python",
   "nbconvert_exporter": "python",
   "pygments_lexer": "ipython3",
   "version": "3.11.8"
  }
 },
 "nbformat": 4,
 "nbformat_minor": 4
}
