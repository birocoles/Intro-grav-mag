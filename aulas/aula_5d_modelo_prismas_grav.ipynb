{
 "cells": [
  {
   "cell_type": "markdown",
   "metadata": {},
   "source": [
    "# Simulate a geological source"
   ]
  },
  {
   "cell_type": "markdown",
   "metadata": {},
   "source": [
    "### Things we have to import"
   ]
  },
  {
   "cell_type": "code",
   "execution_count": 1,
   "metadata": {},
   "outputs": [],
   "source": [
    "import numpy as np"
   ]
  },
  {
   "cell_type": "code",
   "execution_count": 2,
   "metadata": {},
   "outputs": [],
   "source": [
    "import matplotlib.pyplot as plt"
   ]
  },
  {
   "cell_type": "code",
   "execution_count": 3,
   "metadata": {
    "tags": []
   },
   "outputs": [],
   "source": [
    "from mpl_toolkits.axes_grid1.axes_divider import make_axes_locatable"
   ]
  },
  {
   "cell_type": "code",
   "execution_count": 4,
   "metadata": {},
   "outputs": [],
   "source": [
    "import time"
   ]
  },
  {
   "cell_type": "code",
   "execution_count": 5,
   "metadata": {},
   "outputs": [],
   "source": [
    "import pickle"
   ]
  },
  {
   "cell_type": "code",
   "execution_count": 6,
   "metadata": {},
   "outputs": [],
   "source": [
    "from gravmag import data_structures, utils, aux_vedo\n",
    "from gravmag.models import rectangular_prism as rp"
   ]
  },
  {
   "cell_type": "code",
   "execution_count": 7,
   "metadata": {
    "tags": []
   },
   "outputs": [],
   "source": [
    "from gravmag import plot_functions as plf"
   ]
  },
  {
   "cell_type": "code",
   "execution_count": 8,
   "metadata": {
    "tags": []
   },
   "outputs": [],
   "source": [
    "import vedo"
   ]
  },
  {
   "cell_type": "code",
   "execution_count": 9,
   "metadata": {
    "tags": []
   },
   "outputs": [],
   "source": [
    "# set the backend for vedo\n",
    "vedo.settings.default_backend= 'vtk'\n",
    "#vedo.settings.default_backend= '2d'"
   ]
  },
  {
   "cell_type": "code",
   "execution_count": 10,
   "metadata": {
    "tags": []
   },
   "outputs": [],
   "source": [
    "from PIL import Image"
   ]
  },
  {
   "cell_type": "markdown",
   "metadata": {},
   "source": [
    "### Create the model"
   ]
  },
  {
   "cell_type": "code",
   "execution_count": 11,
   "metadata": {
    "tags": []
   },
   "outputs": [],
   "source": [
    "# Set the model area\n",
    "# minimum x, maximum x, minimum y and maximum y\n",
    "model_area = [-5100, 4900, -3800, 6200]"
   ]
  },
  {
   "cell_type": "code",
   "execution_count": 12,
   "metadata": {
    "tags": []
   },
   "outputs": [],
   "source": [
    "# dictionary to store the model\n",
    "model = dict()"
   ]
  },
  {
   "cell_type": "markdown",
   "metadata": {},
   "source": [
    "#### Main model"
   ]
  },
  {
   "cell_type": "code",
   "execution_count": 13,
   "metadata": {
    "tags": []
   },
   "outputs": [],
   "source": [
    "# Create a model formed by a five prisms\n",
    "prisms_main = np.array([[-500, 500, 0, 2000, 10, 1010],\n",
    "                        [-1500, -500, 1000, 3000, 100, 1200],\n",
    "                        [1000, 3000, 2000, 2500, 90, 1500],\n",
    "                        [-4000, -1000, -3000, 1000, 100, 1400],\n",
    "                        [-3000, 1000, -2000, 4000, 1000, 1500]])\n",
    "\n",
    "# Densities of the prisms\n",
    "densities_main = np.array([1500, -1800, -3000, 1200, -900]) # 2000 kg/m³ = 2 g/cm³"
   ]
  },
  {
   "cell_type": "markdown",
   "metadata": {},
   "source": [
    "#### Geological noise"
   ]
  },
  {
   "cell_type": "code",
   "execution_count": 14,
   "metadata": {},
   "outputs": [],
   "source": [
    "# center of Ns sources randomly distributed in the simulated area\n",
    "Ngn = 300\n",
    "\n",
    "xgn = model_area[0] + (model_area[1] - model_area[0])*np.random.rand(Ngn)\n",
    "ygn = model_area[2] + (model_area[3] - model_area[2])*np.random.rand(Ngn)\n",
    "zgn_top = 100.*np.random.rand(Ngn)\n",
    "\n",
    "# sizes \n",
    "Lgn = 100. + 200*np.random.rand(Ngn)\n",
    "\n",
    "# densities\n",
    "densities_gn = 2000. + 1000.*np.random.rand(Ngn)\n",
    "\n",
    "# create the sources\n",
    "prisms_gn = np.zeros((Ngn, 6))\n",
    "prisms_gn[:,0] = xgn - 0.5*Lgn\n",
    "prisms_gn[:,1] = xgn + 0.5*Lgn\n",
    "prisms_gn[:,2] = ygn - 0.5*Lgn\n",
    "prisms_gn[:,3] = ygn + 0.5*Lgn\n",
    "prisms_gn[:,4] = 0.\n",
    "prisms_gn[:,5] = zgn_top + Lgn"
   ]
  },
  {
   "cell_type": "code",
   "execution_count": 15,
   "metadata": {},
   "outputs": [],
   "source": [
    "prisms = np.vstack([prisms_main, prisms_gn])\n",
    "densities = np.hstack([densities_main, densities_gn])"
   ]
  },
  {
   "cell_type": "code",
   "execution_count": 16,
   "metadata": {},
   "outputs": [],
   "source": [
    "prisms_dict = {\n",
    "    'x1' : prisms[:,0],\n",
    "    'x2' : prisms[:,1],\n",
    "    'y1' : prisms[:,2],\n",
    "    'y2' : prisms[:,3],\n",
    "    'z1' : prisms[:,4],\n",
    "    'z2' : prisms[:,5]\n",
    "}"
   ]
  },
  {
   "cell_type": "code",
   "execution_count": 17,
   "metadata": {},
   "outputs": [],
   "source": [
    "prisms_long_wavelength_dict = {\n",
    "    'x1' : prisms_main[4:,0],\n",
    "    'x2' : prisms_main[4:,1],\n",
    "    'y1' : prisms_main[4:,2],\n",
    "    'y2' : prisms_main[4:,3],\n",
    "    'z1' : prisms_main[4:,4],\n",
    "    'z2' : prisms_main[4:,5]\n",
    "}\n",
    "\n",
    "prisms_mid_wavelength_dict = {\n",
    "    'x1' : prisms_main[:4,0],\n",
    "    'x2' : prisms_main[:4,1],\n",
    "    'y1' : prisms_main[:4,2],\n",
    "    'y2' : prisms_main[:4,3],\n",
    "    'z1' : prisms_main[:4,4],\n",
    "    'z2' : prisms_main[:4,5]\n",
    "}"
   ]
  },
  {
   "cell_type": "code",
   "execution_count": 18,
   "metadata": {},
   "outputs": [],
   "source": [
    "model['prisms'] = prisms_dict\n",
    "model['densities'] = densities"
   ]
  },
  {
   "cell_type": "code",
   "execution_count": 19,
   "metadata": {},
   "outputs": [],
   "source": [
    "# save the model\n",
    "file_name = 'synthetic_bodies.pickle'\n",
    "with open('aula_5d/'+file_name, 'wb') as f:\n",
    "    pickle.dump(model, f)"
   ]
  },
  {
   "cell_type": "markdown",
   "metadata": {},
   "source": [
    "#### 2D plot (plan view)"
   ]
  },
  {
   "cell_type": "code",
   "execution_count": 20,
   "metadata": {
    "tags": []
   },
   "outputs": [
    {
     "data": {
      "image/png": "[encoded data removed]",
      "text/plain": [
       "<Figure size 700x600 with 1 Axes>"
      ]
     },
     "metadata": {},
     "output_type": "display_data"
    }
   ],
   "source": [
    "fig, ax = plt.subplots(figsize=(7,6))\n",
    "\n",
    "ax.axis('scaled')\n",
    "\n",
    "plf.model_boundaries(\n",
    "    ax,\n",
    "    model=prisms_long_wavelength_dict,\n",
    "    color='k',\n",
    "    style='-',\n",
    "    width='3'\n",
    ")\n",
    "\n",
    "plf.model_boundaries(\n",
    "    ax,\n",
    "    model=prisms_mid_wavelength_dict,\n",
    "    color='k',\n",
    "    style='--',\n",
    "    width='2'\n",
    ")\n",
    "\n",
    "ax.set_ylim(0.001*model_area[0], 0.001*model_area[1])\n",
    "ax.set_xlim(0.001*model_area[2], 0.001*model_area[3])\n",
    "ax.set_xticks(np.linspace(-4, 6, 11))\n",
    "ax.set_yticks(np.linspace(-5, 5, 11))\n",
    "ax.tick_params(axis='both', labelsize=14)\n",
    "ax.annotate(text='A', xy=(0.15, 0.05), fontsize=14)\n",
    "ax.annotate(text='B', xy=(2.55, -0.95), fontsize=14)\n",
    "ax.annotate(text='C', xy=(1.55, 2.50), fontsize=14)\n",
    "ax.annotate(text='D', xy=(-2.80, -3.80), fontsize=14)\n",
    "ax.annotate(text='E', xy=(-1.80, 0.50), fontsize=14)\n",
    "ax.set_xlabel('y (km)', fontsize=16)\n",
    "ax.set_ylabel('x (km)', fontsize=16)\n",
    "ax.grid()\n",
    "plt.tight_layout()\n",
    "\n",
    "plt.show()"
   ]
  },
  {
   "cell_type": "markdown",
   "metadata": {},
   "source": [
    "#### 3D Plot"
   ]
  },
  {
   "cell_type": "code",
   "execution_count": 21,
   "metadata": {
    "tags": []
   },
   "outputs": [],
   "source": [
    "# create a Vedo model of prisms with colors defined by the density\n",
    "model_vedo = aux_vedo.gravmag2vedo_prisms(\n",
    "    gravmag_prisms=prisms_dict,\n",
    "    scalar_props=densities,\n",
    "    cmap='jet',\n",
    "    vmin=np.min(densities),\n",
    "    vmax=np.max(densities)\n",
    ")"
   ]
  },
  {
   "cell_type": "code",
   "execution_count": 22,
   "metadata": {
    "tags": []
   },
   "outputs": [
    {
     "data": {
      "text/html": [
       "<table>\n",
       "<tr>\n",
       "<td>\n",
       "<img src='data:image/png;base64,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'></img>\n",
       "</td>\n",
       "<td style='text-align: center; vertical-align: center;'><br/>\n",
       "<b> Mesh: &nbsp&nbsp</b><b><a href=\"https://vedo.embl.es/docs/vedo/mesh.html#Mesh\" target=\"_blank\">vedo.mesh.Mesh</a></b>\n",
       "<table>\n",
       "<tr><td><b> bounds </b> <br/> (x/y/z) </td><td>-5228 ... 4972<br/>-3898 ... 6308<br/>0 ... 1500</td></tr>\n",
       "<tr><td><b> center of mass </b></td><td>(-285, 1.28e+3, 137)</td></tr>\n",
       "<tr><td><b> average size </b></td><td>3730.760</td></tr>\n",
       "<tr><td><b> nr. points&nbsp/&nbspfaces </b></td><td>7320&nbsp/&nbsp1830</td></tr>\n",
       "\n",
       "<tr><td><b> cell data array </b></td><td>Scalars</td></tr>\n",
       "</table>\n",
       "</table>"
      ],
      "text/plain": [
       "<vedo.mesh.Mesh at 0x712a3bbad350>"
      ]
     },
     "execution_count": 22,
     "metadata": {},
     "output_type": "execute_result"
    }
   ],
   "source": [
    "# add a colorbar to the prisms\n",
    "model_vedo.add_scalarbar(\n",
    "    title=\"density (kg/m³)\", \n",
    "    pos=(0.8,0.01),\n",
    "    title_yoffset=15,\n",
    "    font_size=14,\n",
    "    nlabels=10,\n",
    "    horizontal=False,\n",
    "    label_format=':9.2f'\n",
    ")"
   ]
  },
  {
   "cell_type": "code",
   "execution_count": 23,
   "metadata": {
    "tags": []
   },
   "outputs": [
    {
     "data": {
      "text/plain": [
       "<vedo.plotter.Plotter at 0x712a4498c710>"
      ]
     },
     "execution_count": 23,
     "metadata": {},
     "output_type": "execute_result"
    }
   ],
   "source": [
    "pl = vedo.Plotter()\n",
    "\n",
    "pl += model_vedo\n",
    "\n",
    "pl += aux_vedo.custom_axes(model_area+[-500, 1000])\n",
    "\n",
    "# set a model view\n",
    "pl.show(\n",
    "    axes=0, \n",
    "    zoom=1, \n",
    "    interactive=True\n",
    ")\n",
    "\n",
    "pl.close()"
   ]
  },
  {
   "cell_type": "code",
   "execution_count": null,
   "metadata": {},
   "outputs": [],
   "source": []
  }
 ],
 "metadata": {
  "kernelspec": {
   "display_name": "Python 3 (ipykernel)",
   "language": "python",
   "name": "python3"
  },
  "language_info": {
   "codemirror_mode": {
    "name": "ipython",
    "version": 3
   },
   "file_extension": ".py",
   "mimetype": "text/x-python",
   "name": "python",
   "nbconvert_exporter": "python",
   "pygments_lexer": "ipython3",
   "version": "3.11.8"
  }
 },
 "nbformat": 4,
 "nbformat_minor": 4
}
