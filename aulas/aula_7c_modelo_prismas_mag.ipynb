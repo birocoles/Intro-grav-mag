{
 "cells": [
  {
   "cell_type": "markdown",
   "metadata": {},
   "source": [
    "# Simulate a geological source"
   ]
  },
  {
   "cell_type": "markdown",
   "metadata": {},
   "source": [
    "### Things we have to import"
   ]
  },
  {
   "cell_type": "code",
   "execution_count": 1,
   "metadata": {},
   "outputs": [],
   "source": [
    "import numpy as np"
   ]
  },
  {
   "cell_type": "code",
   "execution_count": 2,
   "metadata": {},
   "outputs": [],
   "source": [
    "import matplotlib.pyplot as plt"
   ]
  },
  {
   "cell_type": "code",
   "execution_count": 3,
   "metadata": {
    "tags": []
   },
   "outputs": [],
   "source": [
    "from mpl_toolkits.axes_grid1.axes_divider import make_axes_locatable"
   ]
  },
  {
   "cell_type": "code",
   "execution_count": 4,
   "metadata": {},
   "outputs": [],
   "source": [
    "import time"
   ]
  },
  {
   "cell_type": "code",
   "execution_count": 5,
   "metadata": {},
   "outputs": [],
   "source": [
    "import pickle"
   ]
  },
  {
   "cell_type": "code",
   "execution_count": 6,
   "metadata": {},
   "outputs": [],
   "source": [
    "from gravmag import data_structures, utils, aux_vedo\n",
    "from gravmag.models import rectangular_prism as rp"
   ]
  },
  {
   "cell_type": "code",
   "execution_count": 7,
   "metadata": {
    "tags": []
   },
   "outputs": [],
   "source": [
    "from gravmag import plot_functions as plf"
   ]
  },
  {
   "cell_type": "code",
   "execution_count": 8,
   "metadata": {
    "tags": []
   },
   "outputs": [],
   "source": [
    "import vedo"
   ]
  },
  {
   "cell_type": "code",
   "execution_count": 9,
   "metadata": {
    "tags": []
   },
   "outputs": [],
   "source": [
    "# set the backend for vedo\n",
    "vedo.settings.default_backend= 'vtk'\n",
    "#vedo.settings.default_backend= '2d'"
   ]
  },
  {
   "cell_type": "code",
   "execution_count": 10,
   "metadata": {
    "tags": []
   },
   "outputs": [],
   "source": [
    "from PIL import Image"
   ]
  },
  {
   "cell_type": "markdown",
   "metadata": {},
   "source": [
    "### Create the model"
   ]
  },
  {
   "cell_type": "code",
   "execution_count": 11,
   "metadata": {
    "tags": []
   },
   "outputs": [],
   "source": [
    "# Set the model area\n",
    "# minimum x, maximum x, minimum y and maximum y\n",
    "model_area = [-5100, 4900, -3800, 6200]"
   ]
  },
  {
   "cell_type": "code",
   "execution_count": 12,
   "metadata": {
    "tags": []
   },
   "outputs": [],
   "source": [
    "# dictionary to store the model\n",
    "model = dict()"
   ]
  },
  {
   "cell_type": "markdown",
   "metadata": {},
   "source": [
    "#### Main model"
   ]
  },
  {
   "cell_type": "code",
   "execution_count": 13,
   "metadata": {
    "tags": []
   },
   "outputs": [],
   "source": [
    "# Create a model formed by a five prisms\n",
    "Nmain = 5\n",
    "prisms_main = np.array([[-500, 500, 0, 2000, 10, 1010],\n",
    "                        [-1500, -500, 1000, 3000, 100, 1200],\n",
    "                        [1000, 3000, 2000, 2500, 90, 1500],\n",
    "                        [-4000, -1000, -3000, 1000, 100, 1400],\n",
    "                        [-3000, 1000, -2000, 4000, 1000, 1500]])"
   ]
  },
  {
   "cell_type": "code",
   "execution_count": 14,
   "metadata": {
    "tags": []
   },
   "outputs": [],
   "source": [
    "# generate random total-magnetization intensity (A / m) values\n",
    "rng = np.random.default_rng(126543786908888123)\n",
    "mag_intensities_main = rng.uniform(low=2, high=3, size=Nmain)"
   ]
  },
  {
   "cell_type": "code",
   "execution_count": 15,
   "metadata": {
    "tags": []
   },
   "outputs": [],
   "source": [
    "# set constant total-magnetization inclination and declination (°) values\n",
    "mag_incs_main = np.zeros(Nmain) - 10.2\n",
    "mag_decs_main = np.zeros(Nmain) - 19.8"
   ]
  },
  {
   "cell_type": "markdown",
   "metadata": {},
   "source": [
    "#### Geological noise"
   ]
  },
  {
   "cell_type": "code",
   "execution_count": 16,
   "metadata": {},
   "outputs": [],
   "source": [
    "# center of Ns sources randomly distributed in the simulated area\n",
    "Ngn = 300\n",
    "\n",
    "xgn = model_area[0] + (model_area[1] - model_area[0])*np.random.rand(Ngn)\n",
    "ygn = model_area[2] + (model_area[3] - model_area[2])*np.random.rand(Ngn)\n",
    "zgn_top = 100.*np.random.rand(Ngn)\n",
    "\n",
    "# sizes \n",
    "Lgn = 100. + 200*np.random.rand(Ngn)\n",
    "\n",
    "# total magnetizations\n",
    "mag_intensities_gn = np.random.rand(Ngn)\n",
    "mag_incs_gn = np.zeros(Ngn) - 10.2\n",
    "mag_decs_gn = np.zeros(Ngn) - 19.8\n",
    "\n",
    "# create the sources\n",
    "prisms_gn = np.zeros((Ngn, 6))\n",
    "prisms_gn[:,0] = xgn - 0.5*Lgn\n",
    "prisms_gn[:,1] = xgn + 0.5*Lgn\n",
    "prisms_gn[:,2] = ygn - 0.5*Lgn\n",
    "prisms_gn[:,3] = ygn + 0.5*Lgn\n",
    "prisms_gn[:,4] = 0.\n",
    "prisms_gn[:,5] = zgn_top + Lgn"
   ]
  },
  {
   "cell_type": "code",
   "execution_count": 17,
   "metadata": {},
   "outputs": [],
   "source": [
    "prisms = np.vstack([prisms_main, prisms_gn])\n",
    "mag_intensities = np.hstack([mag_intensities_main, mag_intensities_gn])\n",
    "mag_incs = np.hstack([mag_incs_main, mag_incs_gn])\n",
    "mag_decs = np.hstack([mag_decs_main, mag_decs_gn])"
   ]
  },
  {
   "cell_type": "code",
   "execution_count": 18,
   "metadata": {},
   "outputs": [],
   "source": [
    "prisms_dict = {\n",
    "    'x1' : prisms[:,0],\n",
    "    'x2' : prisms[:,1],\n",
    "    'y1' : prisms[:,2],\n",
    "    'y2' : prisms[:,3],\n",
    "    'z1' : prisms[:,4],\n",
    "    'z2' : prisms[:,5]\n",
    "}"
   ]
  },
  {
   "cell_type": "code",
   "execution_count": 19,
   "metadata": {},
   "outputs": [],
   "source": [
    "prisms_long_wavelength_dict = {\n",
    "    'x1' : prisms_main[4:,0],\n",
    "    'x2' : prisms_main[4:,1],\n",
    "    'y1' : prisms_main[4:,2],\n",
    "    'y2' : prisms_main[4:,3],\n",
    "    'z1' : prisms_main[4:,4],\n",
    "    'z2' : prisms_main[4:,5]\n",
    "}\n",
    "\n",
    "prisms_mid_wavelength_dict = {\n",
    "    'x1' : prisms_main[:4,0],\n",
    "    'x2' : prisms_main[:4,1],\n",
    "    'y1' : prisms_main[:4,2],\n",
    "    'y2' : prisms_main[:4,3],\n",
    "    'z1' : prisms_main[:4,4],\n",
    "    'z2' : prisms_main[:4,5]\n",
    "}"
   ]
  },
  {
   "cell_type": "code",
   "execution_count": 20,
   "metadata": {},
   "outputs": [],
   "source": [
    "model['prisms'] = prisms_dict\n",
    "model['mag-intensities'] = mag_intensities\n",
    "model['mag-inclinations'] = mag_incs\n",
    "model['mag-declinations'] = mag_decs"
   ]
  },
  {
   "cell_type": "code",
   "execution_count": 21,
   "metadata": {},
   "outputs": [],
   "source": [
    "# save the model\n",
    "file_name = 'synthetic_bodies_mag.pickle'\n",
    "with open('aula_7c/'+file_name, 'wb') as f:\n",
    "    pickle.dump(model, f)"
   ]
  },
  {
   "cell_type": "markdown",
   "metadata": {},
   "source": [
    "#### 2D plot (plan view)"
   ]
  },
  {
   "cell_type": "code",
   "execution_count": 22,
   "metadata": {
    "tags": []
   },
   "outputs": [
    {
     "data": {
      "image/png": "[encoded data removed]",
      "text/plain": [
       "<Figure size 700x600 with 1 Axes>"
      ]
     },
     "metadata": {},
     "output_type": "display_data"
    }
   ],
   "source": [
    "fig, ax = plt.subplots(figsize=(7,6))\n",
    "\n",
    "ax.axis('scaled')\n",
    "\n",
    "plf.model_boundaries(\n",
    "    ax,\n",
    "    model=prisms_long_wavelength_dict,\n",
    "    color='k',\n",
    "    style='-',\n",
    "    width='3'\n",
    ")\n",
    "\n",
    "plf.model_boundaries(\n",
    "    ax,\n",
    "    model=prisms_mid_wavelength_dict,\n",
    "    color='k',\n",
    "    style='--',\n",
    "    width='2'\n",
    ")\n",
    "\n",
    "ax.set_ylim(0.001*model_area[0], 0.001*model_area[1])\n",
    "ax.set_xlim(0.001*model_area[2], 0.001*model_area[3])\n",
    "ax.set_xticks(np.linspace(-4, 6, 11))\n",
    "ax.set_yticks(np.linspace(-5, 5, 11))\n",
    "ax.tick_params(axis='both', labelsize=14)\n",
    "ax.annotate(text='A', xy=(0.15, 0.05), fontsize=14)\n",
    "ax.annotate(text='B', xy=(2.55, -0.95), fontsize=14)\n",
    "ax.annotate(text='C', xy=(1.55, 2.50), fontsize=14)\n",
    "ax.annotate(text='D', xy=(-2.80, -3.80), fontsize=14)\n",
    "ax.annotate(text='E', xy=(-1.80, 0.50), fontsize=14)\n",
    "ax.set_xlabel('y (km)', fontsize=16)\n",
    "ax.set_ylabel('x (km)', fontsize=16)\n",
    "ax.grid()\n",
    "plt.tight_layout()\n",
    "\n",
    "plt.show()"
   ]
  },
  {
   "cell_type": "markdown",
   "metadata": {},
   "source": [
    "#### 3D Plot"
   ]
  },
  {
   "cell_type": "code",
   "execution_count": 23,
   "metadata": {
    "tags": []
   },
   "outputs": [],
   "source": [
    "# create a Vedo model of prisms with colors defined by the magnetization intensities\n",
    "model_vedo = aux_vedo.gravmag2vedo_prisms(\n",
    "    gravmag_prisms=prisms_dict,\n",
    "    scalar_props=mag_intensities,\n",
    "    cmap='jet',\n",
    "    vmin=np.min(mag_intensities),\n",
    "    vmax=np.max(mag_intensities)\n",
    ")"
   ]
  },
  {
   "cell_type": "code",
   "execution_count": 24,
   "metadata": {
    "tags": []
   },
   "outputs": [
    {
     "data": {
      "text/html": [
       "<table>\n",
       "<tr>\n",
       "<td>\n",
       "<img src='data:image/png;base64,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'></img>\n",
       "</td>\n",
       "<td style='text-align: center; vertical-align: center;'><br/>\n",
       "<b> Mesh: &nbsp&nbsp</b><b><a href=\"https://vedo.embl.es/docs/vedo/mesh.html#Mesh\" target=\"_blank\">vedo.mesh.Mesh</a></b>\n",
       "<table>\n",
       "<tr><td><b> bounds </b> <br/> (x/y/z) </td><td>-5189 ... 4874<br/>-3908 ... 6314<br/>0 ... 1500</td></tr>\n",
       "<tr><td><b> center of mass </b></td><td>(-204, 1.32e+3, 135)</td></tr>\n",
       "<tr><td><b> average size </b></td><td>3680.371</td></tr>\n",
       "<tr><td><b> nr. points&nbsp/&nbspfaces </b></td><td>7320&nbsp/&nbsp1830</td></tr>\n",
       "\n",
       "<tr><td><b> cell data array </b></td><td>Scalars</td></tr>\n",
       "</table>\n",
       "</table>"
      ],
      "text/plain": [
       "<vedo.mesh.Mesh at 0x7572977f2f90>"
      ]
     },
     "execution_count": 24,
     "metadata": {},
     "output_type": "execute_result"
    }
   ],
   "source": [
    "# add a colorbar to the prisms\n",
    "model_vedo.add_scalarbar(\n",
    "    title=\"magnetization (A/m)\", \n",
    "    pos=(0.8,0.01),\n",
    "    title_yoffset=15,\n",
    "    font_size=14,\n",
    "    nlabels=10,\n",
    "    horizontal=False,\n",
    "    label_format=':9.2f'\n",
    ")"
   ]
  },
  {
   "cell_type": "code",
   "execution_count": 25,
   "metadata": {
    "tags": []
   },
   "outputs": [
    {
     "data": {
      "text/plain": [
       "<vedo.plotter.Plotter at 0x75729776ee90>"
      ]
     },
     "execution_count": 25,
     "metadata": {},
     "output_type": "execute_result"
    }
   ],
   "source": [
    "pl = vedo.Plotter()\n",
    "\n",
    "pl += model_vedo\n",
    "\n",
    "pl += aux_vedo.custom_axes(model_area+[-500, 1000])\n",
    "\n",
    "# set a model view\n",
    "pl.show(\n",
    "    axes=0, \n",
    "    zoom=1, \n",
    "    interactive=True\n",
    ")\n",
    "\n",
    "pl.close()"
   ]
  },
  {
   "cell_type": "code",
   "execution_count": null,
   "metadata": {},
   "outputs": [],
   "source": []
  }
 ],
 "metadata": {
  "kernelspec": {
   "display_name": "Python 3 (ipykernel)",
   "language": "python",
   "name": "python3"
  },
  "language_info": {
   "codemirror_mode": {
    "name": "ipython",
    "version": 3
   },
   "file_extension": ".py",
   "mimetype": "text/x-python",
   "name": "python",
   "nbconvert_exporter": "python",
   "pygments_lexer": "ipython3",
   "version": "3.11.8"
  }
 },
 "nbformat": 4,
 "nbformat_minor": 4
}
