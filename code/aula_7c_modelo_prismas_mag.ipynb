{
 "cells": [
  {
   "cell_type": "markdown",
   "metadata": {},
   "source": [
    "# Simulate a geological source"
   ]
  },
  {
   "cell_type": "markdown",
   "metadata": {},
   "source": [
    "### Things we have to import"
   ]
  },
  {
   "cell_type": "code",
   "execution_count": 1,
   "metadata": {},
   "outputs": [],
   "source": [
    "import numpy as np"
   ]
  },
  {
   "cell_type": "code",
   "execution_count": 2,
   "metadata": {},
   "outputs": [],
   "source": [
    "import matplotlib.pyplot as plt"
   ]
  },
  {
   "cell_type": "code",
   "execution_count": 3,
   "metadata": {
    "tags": []
   },
   "outputs": [],
   "source": [
    "from mpl_toolkits.axes_grid1.axes_divider import make_axes_locatable"
   ]
  },
  {
   "cell_type": "code",
   "execution_count": 4,
   "metadata": {},
   "outputs": [],
   "source": [
    "import time"
   ]
  },
  {
   "cell_type": "code",
   "execution_count": 5,
   "metadata": {},
   "outputs": [],
   "source": [
    "import pickle"
   ]
  },
  {
   "cell_type": "code",
   "execution_count": 6,
   "metadata": {},
   "outputs": [],
   "source": [
    "from gravmag import data_structures, utils, aux_vedo\n",
    "from gravmag.models import rectangular_prism as rp"
   ]
  },
  {
   "cell_type": "code",
   "execution_count": 7,
   "metadata": {
    "tags": []
   },
   "outputs": [],
   "source": [
    "from gravmag import plot_functions as plf"
   ]
  },
  {
   "cell_type": "code",
   "execution_count": 8,
   "metadata": {
    "tags": []
   },
   "outputs": [],
   "source": [
    "import vedo"
   ]
  },
  {
   "cell_type": "code",
   "execution_count": 9,
   "metadata": {
    "tags": []
   },
   "outputs": [],
   "source": [
    "# set the backend for vedo\n",
    "vedo.settings.default_backend= 'vtk'\n",
    "#vedo.settings.default_backend= '2d'"
   ]
  },
  {
   "cell_type": "code",
   "execution_count": 10,
   "metadata": {
    "tags": []
   },
   "outputs": [],
   "source": [
    "from PIL import Image"
   ]
  },
  {
   "cell_type": "markdown",
   "metadata": {},
   "source": [
    "### Create the model"
   ]
  },
  {
   "cell_type": "code",
   "execution_count": 11,
   "metadata": {
    "tags": []
   },
   "outputs": [],
   "source": [
    "# Set the model area\n",
    "# minimum x, maximum x, minimum y and maximum y\n",
    "model_area = [-5100, 4900, -3800, 6200]"
   ]
  },
  {
   "cell_type": "code",
   "execution_count": 12,
   "metadata": {
    "tags": []
   },
   "outputs": [],
   "source": [
    "# dictionary to store the model\n",
    "model = dict()"
   ]
  },
  {
   "cell_type": "markdown",
   "metadata": {},
   "source": [
    "#### Main model"
   ]
  },
  {
   "cell_type": "code",
   "execution_count": 13,
   "metadata": {
    "tags": []
   },
   "outputs": [],
   "source": [
    "# Create a model formed by a five prisms\n",
    "Nmain = 5\n",
    "prisms_main = np.array([[-500, 500, 0, 2000, 10, 1010],\n",
    "                        [-1500, -500, 1000, 3000, 100, 1200],\n",
    "                        [1000, 3000, 2000, 2500, 90, 1500],\n",
    "                        [-4000, -1000, -3000, 1000, 100, 1400],\n",
    "                        [-3000, 1000, -2000, 4000, 1000, 1500]])"
   ]
  },
  {
   "cell_type": "code",
   "execution_count": 14,
   "metadata": {
    "tags": []
   },
   "outputs": [],
   "source": [
    "# generate random total-magnetization intensity (A / m) values\n",
    "rng = np.random.default_rng(126543786908888123)\n",
    "mag_intensities_main = rng.uniform(low=2, high=3, size=Nmain)"
   ]
  },
  {
   "cell_type": "code",
   "execution_count": 15,
   "metadata": {
    "tags": []
   },
   "outputs": [],
   "source": [
    "# set constant total-magnetization inclination and declination (°) values\n",
    "mag_incs_main = np.zeros(Nmain) - 10.2\n",
    "mag_decs_main = np.zeros(Nmain) - 19.8"
   ]
  },
  {
   "cell_type": "markdown",
   "metadata": {},
   "source": [
    "#### Geological noise"
   ]
  },
  {
   "cell_type": "code",
   "execution_count": 16,
   "metadata": {},
   "outputs": [],
   "source": [
    "# center of Ns sources randomly distributed in the simulated area\n",
    "Ngn = 300\n",
    "\n",
    "xgn = model_area[0] + (model_area[1] - model_area[0])*np.random.rand(Ngn)\n",
    "ygn = model_area[2] + (model_area[3] - model_area[2])*np.random.rand(Ngn)\n",
    "zgn_top = 100.*np.random.rand(Ngn)\n",
    "\n",
    "# sizes \n",
    "Lgn = 100. + 200*np.random.rand(Ngn)\n",
    "\n",
    "# total magnetizations\n",
    "mag_intensities_gn = np.random.rand(Ngn)\n",
    "mag_incs_gn = np.zeros(Ngn) - 10.2\n",
    "mag_decs_gn = np.zeros(Ngn) - 19.8\n",
    "\n",
    "# create the sources\n",
    "prisms_gn = np.zeros((Ngn, 6))\n",
    "prisms_gn[:,0] = xgn - 0.5*Lgn\n",
    "prisms_gn[:,1] = xgn + 0.5*Lgn\n",
    "prisms_gn[:,2] = ygn - 0.5*Lgn\n",
    "prisms_gn[:,3] = ygn + 0.5*Lgn\n",
    "prisms_gn[:,4] = 0.\n",
    "prisms_gn[:,5] = zgn_top + Lgn"
   ]
  },
  {
   "cell_type": "code",
   "execution_count": 17,
   "metadata": {},
   "outputs": [],
   "source": [
    "prisms = np.vstack([prisms_main, prisms_gn])\n",
    "mag_intensities = np.hstack([mag_intensities_main, mag_intensities_gn])\n",
    "mag_incs = np.hstack([mag_incs_main, mag_incs_gn])\n",
    "mag_decs = np.hstack([mag_decs_main, mag_decs_gn])"
   ]
  },
  {
   "cell_type": "code",
   "execution_count": 18,
   "metadata": {},
   "outputs": [],
   "source": [
    "prisms_dict = {\n",
    "    'x1' : prisms[:,0],\n",
    "    'x2' : prisms[:,1],\n",
    "    'y1' : prisms[:,2],\n",
    "    'y2' : prisms[:,3],\n",
    "    'z1' : prisms[:,4],\n",
    "    'z2' : prisms[:,5]\n",
    "}"
   ]
  },
  {
   "cell_type": "code",
   "execution_count": 19,
   "metadata": {},
   "outputs": [],
   "source": [
    "prisms_long_wavelength_dict = {\n",
    "    'x1' : prisms_main[4:,0],\n",
    "    'x2' : prisms_main[4:,1],\n",
    "    'y1' : prisms_main[4:,2],\n",
    "    'y2' : prisms_main[4:,3],\n",
    "    'z1' : prisms_main[4:,4],\n",
    "    'z2' : prisms_main[4:,5]\n",
    "}\n",
    "\n",
    "prisms_mid_wavelength_dict = {\n",
    "    'x1' : prisms_main[:4,0],\n",
    "    'x2' : prisms_main[:4,1],\n",
    "    'y1' : prisms_main[:4,2],\n",
    "    'y2' : prisms_main[:4,3],\n",
    "    'z1' : prisms_main[:4,4],\n",
    "    'z2' : prisms_main[:4,5]\n",
    "}"
   ]
  },
  {
   "cell_type": "code",
   "execution_count": 20,
   "metadata": {},
   "outputs": [],
   "source": [
    "model['prisms'] = prisms_dict\n",
    "model['mag-intensities'] = mag_intensities\n",
    "model['mag-inclinations'] = mag_incs\n",
    "model['mag-declinations'] = mag_decs"
   ]
  },
  {
   "cell_type": "code",
   "execution_count": 21,
   "metadata": {},
   "outputs": [],
   "source": [
    "# save the model\n",
    "file_name = 'synthetic_bodies_mag.pickle'\n",
    "with open('aula_7c/'+file_name, 'wb') as f:\n",
    "    pickle.dump(model, f)"
   ]
  },
  {
   "cell_type": "markdown",
   "metadata": {},
   "source": [
    "#### 2D plot (plan view)"
   ]
  },
  {
   "cell_type": "code",
   "execution_count": 22,
   "metadata": {
    "tags": []
   },
   "outputs": [
    {
     "data": {
      "image/png": "[encoded data removed]",
      "text/plain": [
       "<Figure size 700x600 with 1 Axes>"
      ]
     },
     "metadata": {},
     "output_type": "display_data"
    }
   ],
   "source": [
    "fig, ax = plt.subplots(figsize=(7,6))\n",
    "\n",
    "ax.axis('scaled')\n",
    "\n",
    "plf.model_boundaries(\n",
    "    ax,\n",
    "    model=prisms_long_wavelength_dict,\n",
    "    color='k',\n",
    "    style='-',\n",
    "    width='3'\n",
    ")\n",
    "\n",
    "plf.model_boundaries(\n",
    "    ax,\n",
    "    model=prisms_mid_wavelength_dict,\n",
    "    color='k',\n",
    "    style='--',\n",
    "    width='2'\n",
    ")\n",
    "\n",
    "ax.set_ylim(0.001*model_area[0], 0.001*model_area[1])\n",
    "ax.set_xlim(0.001*model_area[2], 0.001*model_area[3])\n",
    "ax.set_xticks(np.linspace(-4, 6, 11))\n",
    "ax.set_yticks(np.linspace(-5, 5, 11))\n",
    "ax.tick_params(axis='both', labelsize=14)\n",
    "ax.annotate(text='A', xy=(0.15, 0.05), fontsize=14)\n",
    "ax.annotate(text='B', xy=(2.55, -0.95), fontsize=14)\n",
    "ax.annotate(text='C', xy=(1.55, 2.50), fontsize=14)\n",
    "ax.annotate(text='D', xy=(-2.80, -3.80), fontsize=14)\n",
    "ax.annotate(text='E', xy=(-1.80, 0.50), fontsize=14)\n",
    "ax.set_xlabel('y (km)', fontsize=16)\n",
    "ax.set_ylabel('x (km)', fontsize=16)\n",
    "ax.grid()\n",
    "plt.tight_layout()\n",
    "\n",
    "plt.show()"
   ]
  },
  {
   "cell_type": "markdown",
   "metadata": {},
   "source": [
    "#### 3D Plot"
   ]
  },
  {
   "cell_type": "code",
   "execution_count": 23,
   "metadata": {
    "tags": []
   },
   "outputs": [],
   "source": [
    "# create a Vedo model of prisms with colors defined by the magnetization intensities\n",
    "model_vedo = aux_vedo.gravmag2vedo_prisms(\n",
    "    gravmag_prisms=prisms_dict,\n",
    "    scalar_props=mag_intensities,\n",
    "    cmap='jet',\n",
    "    vmin=np.min(mag_intensities),\n",
    "    vmax=np.max(mag_intensities)\n",
    ")"
   ]
  },
  {
   "cell_type": "code",
   "execution_count": 25,
   "metadata": {
    "tags": []
   },
   "outputs": [
    {
     "data": {
      "text/html": [
       "<table>\n",
       "<tr>\n",
       "<td>\n",
       "<img src='data:image/png;base64,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'></img>\n",
       "</td>\n",
       "<td style='text-align: center; vertical-align: center;'><br/>\n",
       "<b> Mesh: &nbsp&nbsp</b><b><a href=\"https://vedo.embl.es/docs/vedo/mesh.html#Mesh\" target=\"_blank\">vedo.mesh.Mesh</a></b>\n",
       "<table>\n",
       "<tr><td><b> bounds </b> <br/> (x/y/z) </td><td>-5218 ... 4967<br/>-3883 ... 6335<br/>0 ... 1500</td></tr>\n",
       "<tr><td><b> center of mass </b></td><td>(-136, 953, 134)</td></tr>\n",
       "<tr><td><b> average size </b></td><td>3795.879</td></tr>\n",
       "<tr><td><b> nr. points&nbsp/&nbspfaces </b></td><td>7320&nbsp/&nbsp1830</td></tr>\n",
       "\n",
       "<tr><td><b> cell data array </b></td><td>Scalars</td></tr>\n",
       "</table>\n",
       "</table>"
      ],
      "text/plain": [
       "<vedo.mesh.Mesh at 0x79270f5b4e50>"
      ]
     },
     "execution_count": 25,
     "metadata": {},
     "output_type": "execute_result"
    }
   ],
   "source": [
    "# add a colorbar to the prisms\n",
    "model_vedo.add_scalarbar(\n",
    "    title=\"magnetization (A/m)\", \n",
    "    pos=(0.8,0.01),\n",
    "    title_yoffset=15,\n",
    "    font_size=14,\n",
    "    nlabels=10,\n",
    "    horizontal=False,\n",
    "    label_format=':9.2f'\n",
    ")"
   ]
  },
  {
   "cell_type": "code",
   "execution_count": 26,
   "metadata": {
    "tags": []
   },
   "outputs": [
    {
     "data": {
      "text/plain": [
       "<vedo.plotter.Plotter at 0x79270ff96210>"
      ]
     },
     "execution_count": 26,
     "metadata": {},
     "output_type": "execute_result"
    }
   ],
   "source": [
    "pl = vedo.Plotter()\n",
    "\n",
    "pl += model_vedo\n",
    "\n",
    "pl += aux_vedo.custom_axes(model_area+[-500, 1000])\n",
    "\n",
    "# set a model view\n",
    "pl.show(\n",
    "    axes=0, \n",
    "    zoom=1, \n",
    "    interactive=True\n",
    ")\n",
    "\n",
    "pl.close()"
   ]
  },
  {
   "cell_type": "code",
   "execution_count": null,
   "metadata": {},
   "outputs": [],
   "source": []
  }
 ],
 "metadata": {
  "kernelspec": {
   "display_name": "Python 3 (ipykernel)",
   "language": "python",
   "name": "python3"
  },
  "language_info": {
   "codemirror_mode": {
    "name": "ipython",
    "version": 3
   },
   "file_extension": ".py",
   "mimetype": "text/x-python",
   "name": "python",
   "nbconvert_exporter": "python",
   "pygments_lexer": "ipython3",
   "version": "3.11.8"
  }
 },
 "nbformat": 4,
 "nbformat_minor": 4
}
